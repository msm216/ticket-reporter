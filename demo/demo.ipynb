{
 "cells": [
  {
   "cell_type": "code",
   "execution_count": 3,
   "metadata": {},
   "outputs": [],
   "source": [
    "import os\n",
    "import os.path\n",
    "import re\n",
    "import itertools\n",
    "import pdfkit\n",
    "\n",
    "import pandas as pd\n",
    "import numpy as np\n",
    "import pymysql.cursors\n",
    "import seaborn as sb\n",
    "import matplotlib.pyplot as plt\n",
    "\n",
    "from datetime import datetime"
   ]
  },
  {
   "cell_type": "markdown",
   "metadata": {},
   "source": [
    "#### SELECT NEWEST CSV FILE"
   ]
  },
  {
   "cell_type": "code",
   "execution_count": 9,
   "metadata": {},
   "outputs": [
    {
     "data": {
      "text/plain": [
       "'c:\\\\Users\\\\ShaomengMao\\\\Projects\\\\ticket-reporter'"
      ]
     },
     "execution_count": 9,
     "metadata": {},
     "output_type": "execute_result"
    }
   ],
   "source": [
    "os.getcwd()\n",
    "# 'c:\\\\Users\\\\ShaomengMao\\\\Projects\\\\ticket-reporter'"
   ]
  },
  {
   "cell_type": "code",
   "execution_count": 5,
   "metadata": {},
   "outputs": [],
   "source": [
    "# 检查指定目录中文件名符合规则且修改时间最新的csv文件并提取修改时间\n",
    "\n",
    "def get_latest_csv_info(directory):\n",
    "    latest_file = None\n",
    "    latest_mtime = 0\n",
    "\n",
    "    # 定义匹配 csv 文件名的正则表达式\n",
    "    pattern = r\"案例清单列表_(\\d{4})(\\d{2})(\\d{2})(\\d{2})(\\d{2})(\\d{2})\\.csv\"\n",
    "    \n",
    "    # 遍历目录下的所有文件\n",
    "    for filename in os.listdir(directory):\n",
    "        # 使用正则表达式匹配文件名\n",
    "        match = re.match(pattern, filename)\n",
    "        #if filename.endswith(\".csv\"):\n",
    "        if match:\n",
    "            print(f\"Compliant csv file {filename} fund.\")\n",
    "            filepath = os.path.join(directory, filename)\n",
    "            mtime = os.path.getmtime(filepath)\n",
    "\n",
    "            # 比较修改时间，更新最新的文件和修改时间\n",
    "            if mtime > latest_mtime:\n",
    "                latest_mtime = mtime\n",
    "                latest_file = filename\n",
    "        else:\n",
    "            print(f\"Not-compliant file {filename} fund.\")\n",
    "\n",
    "    # 如果找到了最新的文件\n",
    "    if latest_file:\n",
    "        # 获取最新文件的修改时间\n",
    "        mtime = datetime.fromtimestamp(latest_mtime)\n",
    "        print(mtime)\n",
    "\n",
    "        # 将修改时间的年、月、日、时、分、秒保存在不同的变量中\n",
    "        year = mtime.year\n",
    "        month = mtime.month\n",
    "        day = mtime.day\n",
    "        hour = mtime.hour\n",
    "        minute = mtime.minute\n",
    "        second = mtime.second\n",
    "\n",
    "        return latest_file, (year, month, day, hour, minute, second)\n",
    "    else:\n",
    "        return None, (None, None, None, None, None, None)\n"
   ]
  },
  {
   "cell_type": "code",
   "execution_count": 6,
   "metadata": {},
   "outputs": [
    {
     "name": "stdout",
     "output_type": "stream",
     "text": [
      "Not-compliant file adnlsadnadas_202403071325.csv fund.\n",
      "Not-compliant file arch fund.\n",
      "Not-compliant file eqvasd_202403111655.txt fund.\n",
      "Not-compliant file TicketList_202403071009.csv fund.\n",
      "Not-compliant file TicketList_20240308172133.csv fund.\n",
      "Not-compliant file udfjnafnansfasd_202302111203.csv fund.\n",
      "Compliant csv file 案例清单列表_20240308172134.csv fund.\n",
      "Compliant csv file 案例清单列表_20240312191412.csv fund.\n",
      "Compliant csv file 案例清单列表_20240326232104.csv fund.\n",
      "Compliant csv file 案例清单列表_20240327182327.csv fund.\n",
      "Compliant csv file 案例清单列表_20240327230817.csv fund.\n",
      "Compliant csv file 案例清单列表_20240328012218.csv fund.\n",
      "Compliant csv file 案例清单列表_20240421214309.csv fund.\n",
      "2024-04-21 15:47:24.044729\n",
      "最新的 CSV 文件: 案例清单列表_20240421214309.csv\n",
      "修改时间: 2024 年 4 月 21 日 15 时 47 分 24 秒\n"
     ]
    }
   ],
   "source": [
    "# 绝对路径\n",
    "gsp_path = os.path.abspath(os.path.join(os.getcwd(), 'data\\\\gsp'))\n",
    "\n",
    "latest_csv, time_stempel = get_latest_csv_info(gsp_path)\n",
    "year, month, day, hour, minute, second = time_stempel\n",
    "\n",
    "if latest_csv:\n",
    "    print(\"最新的 CSV 文件:\", latest_csv)\n",
    "    print(\"修改时间:\", year, \"年\", month, \"月\", day, \"日\", hour, \"时\", minute, \"分\", second, \"秒\")\n",
    "else:\n",
    "    print(\"目录中没有 CSV 文件\")"
   ]
  },
  {
   "cell_type": "code",
   "execution_count": 7,
   "metadata": {},
   "outputs": [
    {
     "name": "stderr",
     "output_type": "stream",
     "text": [
      "C:\\Users\\ShaomengMao\\AppData\\Local\\Temp\\ipykernel_32216\\837442969.py:5: DtypeWarning: Columns (18,36,37,39,49) have mixed types. Specify dtype option on import or set low_memory=False.\n",
      "  tickets = pd.read_csv(path_latest_file)\n"
     ]
    },
    {
     "name": "stdout",
     "output_type": "stream",
     "text": [
      "总条目数量: 110977\n",
      "空值数量: 80858\n",
      "空值占比: 72.86%\n",
      "IDC相关的条目数量: 71\n"
     ]
    }
   ],
   "source": [
    "# 使用绝对路径定位最新的csv数据\n",
    "path_latest_file = os.path.join(os.getcwd(), 'data\\\\gsp', latest_csv)\n",
    "#print(path_latest_file)\n",
    "# 使用 pandas 的 read_csv 函数读取 CSV 文件内容并转换为 DataFrame\n",
    "tickets = pd.read_csv(path_latest_file)\n",
    "print(\"总条目数量:\", tickets.shape[0])\n",
    "\n",
    "# 计算空值的数量\n",
    "null_count = tickets['产品型号/Product Model'].isna().sum()\n",
    "# 计算总行数\n",
    "total_rows = len(tickets)\n",
    "# 计算空值占比\n",
    "null_percentage = (null_count / total_rows) * 100\n",
    "# 打印结果\n",
    "print(\"空值数量:\", null_count)\n",
    "print(\"空值占比: {:.2f}%\".format(null_percentage))\n",
    "\n",
    "# 将 NaN 值填充为 ''\n",
    "tickets.fillna('', inplace=True)\n",
    "# 筛选出DC相关的Tickets\n",
    "tickets_dc = tickets[(tickets['产品型号/Product Model'].str.contains('IDC', case=False))]\n",
    "\n",
    "\n",
    "print(\"IDC相关的条目数量:\", tickets_dc.shape[0])"
   ]
  },
  {
   "cell_type": "markdown",
   "metadata": {},
   "source": [
    "#### SELECT DC CHARGER RELATED TICKETS"
   ]
  },
  {
   "cell_type": "code",
   "execution_count": 7,
   "metadata": {},
   "outputs": [
    {
     "name": "stdout",
     "output_type": "stream",
     "text": [
      "空值数量: 80858\n",
      "空值占比: 72.86%\n",
      "IDC相关的条目数量: 71\n"
     ]
    }
   ],
   "source": [
    "# 计算空值的数量\n",
    "null_count = tickets['产品型号/Product Model'].isna().sum()\n",
    "# 计算总行数\n",
    "total_rows = len(tickets)\n",
    "# 计算空值占比\n",
    "null_percentage = (null_count / total_rows) * 100\n",
    "# 打印结果\n",
    "print(\"空值数量:\", null_count)\n",
    "print(\"空值占比: {:.2f}%\".format(null_percentage))\n",
    "\n",
    "# 将 NaN 值填充为 ''\n",
    "tickets.fillna('', inplace=True)\n",
    "# 筛选出DC相关的Tickets\n",
    "tickets_dc = tickets[(tickets['产品型号/Product Model'].str.contains('IDC', case=False))]\n",
    "\n",
    "\n",
    "print(\"IDC相关的条目数量:\", tickets_dc.shape[0])"
   ]
  },
  {
   "cell_type": "code",
   "execution_count": 1,
   "metadata": {},
   "outputs": [
    {
     "ename": "NameError",
     "evalue": "name 'tickets_dc' is not defined",
     "output_type": "error",
     "traceback": [
      "\u001b[1;31m---------------------------------------------------------------------------\u001b[0m",
      "\u001b[1;31mNameError\u001b[0m                                 Traceback (most recent call last)",
      "Cell \u001b[1;32mIn[1], line 1\u001b[0m\n\u001b[1;32m----> 1\u001b[0m \u001b[43mtickets_dc\u001b[49m\u001b[38;5;241m.\u001b[39minfo()\n",
      "\u001b[1;31mNameError\u001b[0m: name 'tickets_dc' is not defined"
     ]
    }
   ],
   "source": [
    "tickets_dc.info()"
   ]
  },
  {
   "cell_type": "code",
   "execution_count": null,
   "metadata": {},
   "outputs": [],
   "source": [
    "tickets_dc[tickets_dc['序列号/Serial Number'] == 'A2412211326']"
   ]
  },
  {
   "cell_type": "markdown",
   "metadata": {},
   "source": [
    "#### EXTRACT TICKET INFO"
   ]
  },
  {
   "cell_type": "code",
   "execution_count": null,
   "metadata": {},
   "outputs": [],
   "source": [
    "\n",
    "# 选取部分列\n",
    "columns = ['服务案例号/Ticket No.',\n",
    "            '发生日期/Create Date',\n",
    "            '服务类型/Service Type',\n",
    "            '序列号/Serial Number',\n",
    "            '产品型号/Product Model',\n",
    "            '物料代码/Product Code',\n",
    "            '失效现象描述/Failure Description',\n",
    "            '现场环境描述/On-Site Environment Description',\n",
    "            '服务响应及处置/Service Response & Solution',\n",
    "            '关联服务案例/Related Ticket',\n",
    "            '信息记录/Detailed Description',\n",
    "            '项目名称/Project Name',\n",
    "            '客户名称/Customer Name',\n",
    "            '国家/Country/Region',\n",
    "            '城市/City',\n",
    "            '优先级/Priority',\n",
    "            '负责人/Person in Charge',\n",
    "            '案例状态/Ticket Status']\n",
    "\n",
    "# 列名转化为全英文\n",
    "tickets_dc_ = tickets_dc.loc[:, columns].rename(columns=lambda x: x.split('/')[1].strip())\n",
    "tickets_dc_.info()"
   ]
  },
  {
   "cell_type": "code",
   "execution_count": null,
   "metadata": {},
   "outputs": [],
   "source": [
    "target_path = os.path.join(os.getcwd(), 'data', 'dc_tickets')\n",
    "target_path"
   ]
  },
  {
   "cell_type": "code",
   "execution_count": null,
   "metadata": {},
   "outputs": [],
   "source": []
  },
  {
   "cell_type": "code",
   "execution_count": null,
   "metadata": {},
   "outputs": [],
   "source": []
  },
  {
   "cell_type": "code",
   "execution_count": null,
   "metadata": {},
   "outputs": [],
   "source": [
    "filtered_df['Project No.'] = filtered_df.apply(lambda x: str(x.name + 1).zfill(4), axis=1)"
   ]
  },
  {
   "cell_type": "markdown",
   "metadata": {},
   "source": [
    "#### EXTRACT PROJECT INFO"
   ]
  },
  {
   "cell_type": "code",
   "execution_count": null,
   "metadata": {},
   "outputs": [],
   "source": [
    "project_columns = ['项目名称/Project Name',\n",
    "                   '发生日期/Create Date',\n",
    "                   '客户名称/Customer Name',\n",
    "                   '销售合同编号/Sales Contract No.',\n",
    "                   '地址/Project Street Address',\n",
    "                   '城市/City',\n",
    "                   '国家/Country/Region',\n",
    "                   '经度/Longitude',\n",
    "                   '纬度/Latitude',]"
   ]
  },
  {
   "cell_type": "code",
   "execution_count": null,
   "metadata": {},
   "outputs": [],
   "source": []
  },
  {
   "cell_type": "code",
   "execution_count": null,
   "metadata": {},
   "outputs": [],
   "source": []
  },
  {
   "cell_type": "code",
   "execution_count": null,
   "metadata": {},
   "outputs": [],
   "source": [
    "local_file_name = \"data.xls\"\n",
    "\n",
    "def read_local_excel(fn=local_file_name):\n",
    "    # path\n",
    "    file = os.getcwd() + \"\\\\\" + fn\n",
    "    # 初始化空DataFrame\n",
    "    df = pd.DataFrame()\n",
    "    # 读取全表（直接dict中获取各个表？？？）\n",
    "    reader = pd.read_excel(file, sheet_name=None)  # dict of DataFrame\n",
    "    # 生成sheets表\n",
    "    sheets = []\n",
    "    for k in reader.keys():\n",
    "        sheets.append(k)\n",
    "    # 循环 sheets\n",
    "    for sheet in sheets:\n",
    "        # 提取 sheet 为 DataFrame\n",
    "        df_sheet = pd.read_excel(file, sheet_name=sheet)\n",
    "        # 删除含空值的行\n",
    "        df_sheet.dropna(axis=0, how=\"any\", inplace=True)\n",
    "        # 删除原生索引列\n",
    "        df_sheet = df_sheet.drop([\"ID\"], axis=1)\n",
    "        # 添加到df\n",
    "        df = pd.concat([df, df_sheet], ignore_index=True)\n",
    "\n",
    "    return df"
   ]
  },
  {
   "cell_type": "code",
   "execution_count": null,
   "metadata": {},
   "outputs": [],
   "source": []
  },
  {
   "cell_type": "code",
   "execution_count": null,
   "metadata": {},
   "outputs": [],
   "source": []
  },
  {
   "cell_type": "code",
   "execution_count": null,
   "metadata": {},
   "outputs": [],
   "source": []
  },
  {
   "cell_type": "code",
   "execution_count": null,
   "metadata": {},
   "outputs": [],
   "source": [
    "import markdown2\n",
    "import pdfkit\n",
    "\n",
    "# 自定义Markdown内容\n",
    "markdown_content = \"\"\"\n",
    "# My Custom Markdown Report\n",
    "\n",
    "This is a sample Markdown report generated using Python.\n",
    "\n",
    "## DataFrame Content\n",
    "\n",
    "| Name    | Age | Salary |\n",
    "|---------|-----|--------|\n",
    "| Alice   | 25  | 50000  |\n",
    "| Bob     | 30  | 60000  |\n",
    "| Charlie | 35  | 70000  |\n",
    "\"\"\"\n",
    "\n",
    "# 将Markdown转换为HTML\n",
    "html_content = markdown2.markdown(markdown_content)\n",
    "\n",
    "# 将HTML内容保存到文件\n",
    "html_file_path = \"report.html\"\n",
    "with open(html_file_path, \"w\") as html_file:\n",
    "    html_file.write(html_content)\n",
    "\n",
    "# 将HTML文件转换为PDF\n",
    "pdf_file_path = \"report.pdf\"\n",
    "pdfkit.from_file(html_file_path, pdf_file_path)\n",
    "\n",
    "print(f\"PDF已生成：{pdf_file_path}\")"
   ]
  }
 ],
 "metadata": {
  "kernelspec": {
   "display_name": "Python 3",
   "language": "python",
   "name": "python3"
  },
  "language_info": {
   "codemirror_mode": {
    "name": "ipython",
    "version": 3
   },
   "file_extension": ".py",
   "mimetype": "text/x-python",
   "name": "python",
   "nbconvert_exporter": "python",
   "pygments_lexer": "ipython3",
   "version": "3.10.0rc2"
  }
 },
 "nbformat": 4,
 "nbformat_minor": 2
}
