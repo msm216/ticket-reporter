{
 "cells": [
  {
   "cell_type": "markdown",
   "metadata": {},
   "source": [
    "# Charger Log Analysis - IDC180E"
   ]
  },
  {
   "cell_type": "markdown",
   "metadata": {},
   "source": [
    "- [Action Analysis](#Actions)\n",
    "  - [Status](#Status)\n",
    "  - [Authorize](#Authorize)\n",
    "    - [Authorize via RFID Card](#RFID)\n",
    "    - [Authorize via QR Code](#QR)\n",
    "  - [Charge](#Charge)\n",
    "    - [Start Charging](#Start)\n",
    "    - [During Charging](#Charing)\n",
    "    - [Stop Charging](#Stop)\n",
    "  - [DC Meter](#Meter)\n",
    "    - [Synchronization via NTP](#NTP)\n",
    "    - [Synchronization via OCPP](#OCPP)\n",
    "  - [Firmware](#Firmware)\n",
    "    - [Upgrading](#Upgrade)\n",
    "- [Log Analysis](#Logs)\n",
    "  - [...](#Libraries)\n",
    "  - [...](#Analysis)\n",
    "    - [Collection of Data](#Collection)\n",
    "- [Other Tools](#Tools)\n",
    "  - [Clean redundancy files](#Cleaning)\n",
    "  - [Basic Message Filter](#Filtering)\n"
   ]
  },
  {
   "cell_type": "markdown",
   "metadata": {},
   "source": [
    "## Actions"
   ]
  },
  {
   "cell_type": "markdown",
   "metadata": {},
   "source": [
    "### Status"
   ]
  },
  {
   "cell_type": "markdown",
   "metadata": {},
   "source": [
    "### Lost\n",
    "##### OCPP connection to CPO backend got lost \n",
    "\n",
    "```log\n",
    "Apr/30 20:02:13 UTC --  this ocppin is about =  \"HeartbeatResponse\"\n",
    "Apr/30 20:02:13 UTC --  Recv BootNotification: QJsonObject({\"currentTime\":\"2024-04-30T20:02:08Z\"})\n",
    "Apr/30 20:02:13 UTC --  Date time from OCPP is invalid! QDateTime( Qt::TimeSpec(LocalTime)) Try to change format without ms\n",
    "Apr/30 20:02:13 UTC --  Time difference origin: QDateTime(2024-04-30 20:02:13.658 UTC Qt::TimeSpec(UTC)) good, no need to sync from OCPP: QDateTime(2024-04-30 20:02:08.000 UTC Qt::TimeSpec(LocalTime))\n",
    "Apr/30 20:02:18 UTC --  OCPP_Connection_Restore\n",
    "Apr/30 20:02:18 UTC --  Factory mode recevie network change: 2\n",
    "Apr/30 20:02:18 UTC --  Network state good, stop the reconnect check timer\n",
    "Apr/30 20:03:18 UTC --  OCPP_Connection_Fail\n",
    "```\n",
    "A23C2706768VMainProcess.log"
   ]
  },
  {
   "cell_type": "markdown",
   "metadata": {},
   "source": [
    "### Authorize"
   ]
  },
  {
   "cell_type": "markdown",
   "metadata": {},
   "source": [
    "### RFID\n",
    "##### Successful authorization via RFID card\n",
    "- Key Message: Front connector choose authorize: \"Rfid_Authorize\"\n",
    "- Reference Session: 00202405018414\n",
    "- Vechicle: Tesla Model Y\n",
    "\n",
    "```log\n",
    "May/01 14:41:17 UTC --  Card NoEnable\n",
    "May/01 14:41:18 UTC --  SetPara_Confirm, dequeue resend queue\n",
    "May/01 14:41:18 UTC --  Front connector choose authorize: \"Rfid_Authorize\"\n",
    "May/01 14:41:19 UTC --  1  JSONs OCPP were found\n",
    "May/01 14:41:19 UTC --  this ocppin is about =  \"AuthorizeResponse\"\n",
    "May/01 14:41:19 UTC --  Authorize request accepted!!\n",
    "```\n",
    "A23C2706768VMainProcess.log\n",
    "\n",
    "```log\n",
    "2024-05-01 14:42:14.595 +0000 INFO PipeSession - [From charging station]: 060349123358459bad89d758458796ef=StartTransaction={    \"connectorId\": 1,    \"idTag\": \"201ACCBF\",    \"meterStart\": 7854588,    \"timestamp\": \"2024-05-01T14:42:14Z\"}\n",
    "2024-05-01 14:42:14.611 +0000 INFO ChargePoint - The chargePoint (com.Sungrow.ocpp.ChargePoint@16da883) works well.\n",
    "2024-05-01 14:42:14.616 +0000 INFO RequestQueue - SendRequest Queue size: 1, Store time: 1.361 ms, UUID: db8df750-e2e2-409d-90f6-c746feacae89\n",
    "2024-05-01 14:42:14.635 +0000 INFO WebSocketTransmitter - Sending: [2,\"db8df750-e2e2-409d-90f6-c746feacae89\",\"StartTransaction\",{\"connectorId\":1,\"idTag\":\"201ACCBF\",\"meterStart\":7854588,\"timestamp\":\"2024-05-01T14:42:14Z\"}]\n",
    "2024-05-01 14:42:15.764 +0000 INFO WebSocketTransmitter - Received: [3,\"db8df750-e2e2-409d-90f6-c746feacae89\",{\"transactionId\":667,\"idTagInfo\":{\"status\":\"Accepted\"}}]\n",
    "2024-05-01 14:42:15.770 +0000 INFO RequestQueue - Queue size: 0, Store time: 1.192 ms, UUID: db8df750-e2e2-409d-90f6-c746feacae89, Request process time: 1153 ms\n",
    "2024-05-01 14:42:15.801 +0000 INFO ChargePoint - The chargePoint (com.Sungrow.ocpp.ChargePoint@16da883) works well.\n",
    "2024-05-01 14:42:15.835 +0000 INFO PipeSession - [To charging station]: 060349123358459bad89d758458796ef=StartTransactionResponse={\"idTagInfo\":{\"status\":\"Accepted\"},\"transactionId\":667,\"connectorId\":1}\n",
    "```\n",
    "A23C2706768Vocpp.log"
   ]
  },
  {
   "cell_type": "markdown",
   "metadata": {},
   "source": [
    "### QR\n",
    "##### Successful authorization via QR code\n",
    "- Key Message: RemoteStartTransaction, Start_Transaction\n",
    "- Reference Session: 00202404287634\n",
    "- Vechicle: Tesla Model 3\n",
    "\n",
    "```log\n",
    "Apr/28 14:16:06 UTC --  1  JSONs OCPP were found\n",
    "Apr/28 14:16:06 UTC --  this ocppin is about =  \"RemoteStartTransaction\"\n",
    "Apr/28 14:16:06 UTC --  StateSwicthed:from \"State_PayNotChosen_Plug\" to: \"State_Energy_Transfer\"\n",
    "Apr/28 14:16:06 UTC --  \"State_PayNotChosen_Plug\" parent back to start state \"State_PayNotChosen_Plug\"\n",
    "Apr/28 14:16:06 UTC --  \"State_Energy_Transfer\" return start \"State_Energy_Transfer_Preparing_Wait_Stop\"\n",
    "Apr/28 14:16:06 UTC --  Connector: 2 enter energy transfer, trigger other connectors' not chosen\n",
    "Apr/28 14:16:06 UTC --  ChargingStartFunction\n",
    "Apr/28 14:16:06 UTC --  InterLayer_Start_Charging index: 2\n",
    "Apr/28 14:16:06 UTC --  setting power 150\n",
    "Apr/28 14:16:06 UTC --  Clean resend enum: 5\n",
    "Apr/28 14:16:06 UTC --  Change LED status 1\n",
    "Apr/28 14:16:06 UTC --  lem config ocmf, index: 2\n",
    "Apr/28 14:16:06 UTC --  DC_Meter_OCMF_Init_Pre\n",
    "Apr/28 14:16:06 UTC --  void TaskImplementation::handle_Request_Communicator(Layer_Communicator&) : lem start transaction, index: 2 transactionId: \"a0fa3892688940f1a33558ab7628b23a\"\n",
    "Apr/28 14:16:06 UTC --  dc meter Prepare_Read_OCMF index: 2\n",
    "Apr/28 14:16:06 UTC --  Start a new Transaction\n",
    "Apr/28 14:16:06 UTC --  dc meter Prepare_Start_Trans index: 2\n",
    "Apr/28 14:16:06 UTC --  void TaskImplementation::handle_Request_Communicator(Layer_Communicator&) : Read start meter for connector 2 11026.4\n",
    "Apr/28 14:16:06 UTC --  Accept remote start transaction: 2 \"12345\"\n",
    "Apr/28 14:16:06 UTC --  void TaskCompability::SetIDTagCache(ushort, const QString&)  Id tag of  2  is  \"AT-EST-CDPATEVN1-X\"\n",
    "Apr/28 14:16:06 UTC --  void TaskCompability::SetPendingIdTagCache(ushort, const QString&) SET PENDING ID TAG for connector  2  TO:  \"AT-EST-CDPATEVN1-X\"\n",
    "Apr/28 14:16:06 UTC --  Set CCU2 current limit to 250.000000\n",
    "Apr/28 14:16:06 UTC --  Start_Transaction\n",
    "```\n",
    "A23C2706768VMainProcess.log\n",
    "\n",
    "```log\n",
    "2024-04-28 14:16:06.457 +0000 INFO WebSocketTransmitter - Received: [2,\"b68ba114-9957-4cd5-bcac-bbcfeaf9671d\",\"RemoteStartTransaction\",{\"connectorId\":2,\"idTag\":\"AT-EST-CDPATEVN1-X\"}]\n",
    "2024-04-28 14:16:06.480 +0000 INFO PipeSession - [To charging station]: b68ba114-9957-4cd5-bcac-bbcfeaf9671d=RemoteStartTransaction={\"connectorId\":2,\"idTag\":\"AT-EST-CDPATEVN1-X\"}\n",
    "2024-04-28 14:16:06.773 +0000 INFO PipeSession - [From charging station]: b68ba114-9957-4cd5-bcac-bbcfeaf9671d=RemoteStartTransactionResponse={    \"status\": \"Accepted\"}\n",
    "2024-04-28 14:16:06.798 +0000 INFO PipeSession - Pipe Ready\n",
    "2024-04-28 14:16:06.807 +0000 INFO WebSocketTransmitter - Sending: [3,\"b68ba114-9957-4cd5-bcac-bbcfeaf9671d\",{\"status\":\"Accepted\"}]\n",
    "2024-04-28 14:16:27.759 +0000 INFO PipeSession - [From charging station]: 1=StatusNotification={    \"connectorId\": 2,    \"errorCode\": \"NoError\",    \"status\": \"Charging\",    \"vendorErrorCode\": \"\",    \"vendorId\": \"Sungrow\"}\n",
    "```\n",
    "A23C2706768Vocpp.log"
   ]
  },
  {
   "cell_type": "markdown",
   "metadata": {},
   "source": [
    "##### customer authorization failure, rejected by CPO\n",
    "\n"
   ]
  },
  {
   "cell_type": "markdown",
   "metadata": {},
   "source": [
    "### Charge"
   ]
  },
  {
   "cell_type": "markdown",
   "metadata": {},
   "source": [
    "#### Start"
   ]
  },
  {
   "cell_type": "markdown",
   "metadata": {},
   "source": [
    "#### Charging"
   ]
  },
  {
   "cell_type": "markdown",
   "metadata": {},
   "source": [
    "##### Send Meter Value"
   ]
  },
  {
   "cell_type": "markdown",
   "metadata": {},
   "source": [
    "#### Stop"
   ]
  },
  {
   "cell_type": "markdown",
   "metadata": {},
   "source": [
    "\n",
    "##### Stop charging via RFID card\n",
    "\n",
    "```log\n",
    "2024-05-01 16:30:13.378 +0000 INFO PipeSession - [From charging station]: b37accc8ec484bcc86be48fd4014d7e4=StopTransaction={    \"connectorId\": 2,    \"idTag\": \"AT-EST-CDPATEVN1-X\",    \"meterStop\": 11730144,    \"reason\": \"Remote\",    \"timestamp\": \"2024-05-01T16:30:11Z\",    \"transactionData\": [        {            \"sampledValue\": [                {                    \"format\": \"Raw\",                    \"measurand\": \"Energy.Active.Import.Register\",                    \"unit\": \"kWh\",                    \"value\": \"11730.1\"                },                {                    \"format\": \"Raw\",                    \"measurand\": \"Power.Active.Import\",                    \"unit\": \"kW\",                    \"value\": \"0.00107\"                },                {                    \"format\": \"Raw\",                    \"measurand\": \"SoC\",                    \"unit\": \"Percent\",                    \"value\": \"43\"                },                {                    \"format\": \"Raw\",                    \"measurand\": \"Temperature\",                    \"unit\": \"Celsius\",                    \"value\": \"34\"                },                {                    \"format\": \"Raw\",                    \"measurand\": \"Current.Import\",                    \"unit\": \"A\",                    \"value\": \"0\"                },                {                    \"format\": \"Raw\",                    \"measurand\": \"RPM\",                    \"value\": \"3630\"                },                {                    \"format\": \"Raw\",                    \"measurand\": \"Voltage\",                    \"unit\": \"V\",                    \"value\": \"106.6\"                },                {                    \"format\": \"Raw\",                    \"measurand\": \"Current.Offered\",                    \"unit\": \"A\",                    \"value\": \"250\"                },                {                    \"format\": \"Raw\",                    \"measurand\": \"Power.Offered\",                    \"unit\": \"kW\",                    \"value\": \"150\"                }            ],            \"timestamp\": \"2024-05-01T16:30:11Z\"        },        {            \"sampledValue\": [                {                    \"context\": \"Transaction.Begin\",                    \"format\": \"Raw\",                    \"location\": \"Outlet\",                    \"measurand\": \"Energy.Active.Import.Register\",                    \"unit\": \"Wh\",                    \"value\": \"11730.1\"                }            ],            \"timestamp\": \"2024-05-01T16:30:11Z\"        },        {            \"sampledValue\": [                {                    \"context\": \"Transaction.End\",                    \"format\": \"Raw\",                    \"location\": \"Outlet\",                    \"measurand\": \"Energy.Active.Import.Register\",                    \"unit\": \"Wh\",                    \"value\": \"11730.1\"                }            ],            \"timestamp\": \"2024-05-01T16:30:11Z\"        },        {            \"sampledValue\": [                {                    \"context\": \"Transaction.Begin\",                    \"format\": \"SignedData\",                    \"measurand\": \"Energy.Active.Import.Register\",                    \"value\": \"OCMF|{\\\"FV\\\":\\\"1.0\\\",\\\"GI\\\":\\\"LEM DCBM\\\",\\\"GS\\\":\\\"1232581252\\\",\\\"GV\\\":\\\"v1\\\",\\\"PG\\\":\\\"T653\\\",\\\"MV\\\":\\\"LEM\\\",\\\"MS\\\":\\\"1232581252\\\",\\\"MF\\\":\\\"MU-2.3.0.1_SU-0.0.8.0\\\",\\\"IS\\\":false,\\\"IL\\\":\\\"-\\\",\\\"IF\\\":[\\\"RFID_NONE\\\",\\\"OCPP_NONE\\\",\\\"ISO15118_NONE\\\",\\\"PLMN_NONE\\\"],\\\"IT\\\":\\\"NONE\\\",\\\"ID\\\":\\\"f9970c5668dd443fa21fe395ba46f0cf\\\",\\\"CT\\\":\\\"EVSEID\\\",\\\"CI\\\":\\\"A23C2706768\\\",\\\"RD\\\":[{\\\"TM\\\":\\\"2024-05-01T18:27:41,000+0200 R\\\",\\\"TX\\\":\\\"B\\\",\\\"RV\\\":11727.040,\\\"RI\\\":\\\"1-0:1.8.0\\\",\\\"RU\\\":\\\"kWh\\\",\\\"RT\\\":\\\"DC\\\",\\\"EF\\\":\\\"\\\",\\\"ST\\\":\\\"G\\\",\\\"UC\\\":{\\\"UN\\\":\\\"2mR_Comp\\\",\\\"UI\\\":0,\\\"UR\\\":2}},{\\\"RV\\\":4.988,\\\"RI\\\":\\\"1-0:2.8.0\\\",\\\"RU\\\":\\\"kWh\\\",\\\"ST\\\":\\\"G\\\"},{\\\"TM\\\":\\\"2024-05-01T18:27:41,000+0200 R\\\",\\\"TX\\\":\\\"C\\\",\\\"RV\\\":11727.040,\\\"RI\\\":\\\"1-0:1.8.0\\\",\\\"RU\\\":\\\"kWh\\\",\\\"ST\\\":\\\"G\\\"},{\\\"RV\\\":4.988,\\\"RI\\\":\\\"1-0:2.8.0\\\",\\\"RU\\\":\\\"kWh\\\",\\\"ST\\\":\\\"G\\\"}]}|{\\\"SA\\\":\\\"ECDSA-secp256r1-SHA256\\\",\\\"SD\\\":\\\"304402206B15091EA0BD29FCFF8EE172B34212F232F6930D86ECAA344B5AE0CA76DF508B02201DD2761EA632AF0D1507015B8EC0690ED10686730ED6F87387BAC393EF588ED1\\\"}\"                }            ],            \"timestamp\": \"2024-05-01T16:30:11Z\"        },        {            \"sampledValue\": [                {                    \"context\": \"Transaction.End\",                    \"format\": \"SignedData\",                    \"measurand\": \"Energy.Active.Import.Register\",                    \"value\": \"OCMF|{\\\"FV\\\":\\\"1.0\\\",\\\"GI\\\":\\\"LEM DCBM\\\",\\\"GS\\\":\\\"1232581252\\\",\\\"GV\\\":\\\"v1\\\",\\\"PG\\\":\\\"T652\\\",\\\"MV\\\":\\\"LEM\\\",\\\"MS\\\":\\\"1232581252\\\",\\\"MF\\\":\\\"MU-2.3.0.1_SU-0.0.8.0\\\",\\\"IS\\\":false,\\\"IL\\\":\\\"-\\\",\\\"IF\\\":[\\\"RFID_NONE\\\",\\\"OCPP_NONE\\\",\\\"ISO15118_NONE\\\",\\\"PLMN_NONE\\\"],\\\"IT\\\":\\\"NONE\\\",\\\"ID\\\":\\\"0758a576ef0647abab353264e050092e\\\",\\\"CT\\\":\\\"EVSEID\\\",\\\"CI\\\":\\\"A23C2706768\\\",\\\"RD\\\":[{\\\"TM\\\":\\\"2024-05-01T17:03:34,000+0200 R\\\",\\\"TX\\\":\\\"B\\\",\\\"RV\\\":11691.421,\\\"RI\\\":\\\"1-0:1.8.0\\\",\\\"RU\\\":\\\"kWh\\\",\\\"RT\\\":\\\"DC\\\",\\\"EF\\\":\\\"\\\",\\\"ST\\\":\\\"G\\\",\\\"UC\\\":{\\\"UN\\\":\\\"2mR_Comp\\\",\\\"UI\\\":0,\\\"UR\\\":2}},{\\\"RV\\\":4.988,\\\"RI\\\":\\\"1-0:2.8.0\\\",\\\"RU\\\":\\\"kWh\\\",\\\"ST\\\":\\\"G\\\"},{\\\"TM\\\":\\\"2024-05-01T17:27:20,000+0200 R\\\",\\\"TX\\\":\\\"E\\\",\\\"RV\\\":11727.040,\\\"RI\\\":\\\"1-0:1.8.0\\\",\\\"RU\\\":\\\"kWh\\\",\\\"ST\\\":\\\"G\\\"},{\\\"RV\\\":4.988,\\\"RI\\\":\\\"1-0:2.8.0\\\",\\\"RU\\\":\\\"kWh\\\",\\\"ST\\\":\\\"G\\\"}]}|{\\\"SA\\\":\\\"ECDSA-secp256r1-SHA256\\\",\\\"SD\\\":\\\"304402206B15091EA0BD29FCFF8EE172B34212F232F6930D86ECAA344B5AE0CA76DF508B02205FB229A6CDAD436C3CD61AE608EDE19304B38FBCB2206894B4703D85FDCE9A98\\\"}\"                }            ],            \"timestamp\": \"2024-05-01T16:30:11Z\"        }    ],    \"transactionId\": 670}\n",
    "2024-05-01 16:30:13.535 +0000 INFO ChargePoint - The chargePoint (com.Sungrow.ocpp.ChargePoint@16da883) works well.\n",
    "2024-05-01 16:30:13.538 +0000 INFO RequestQueue - SendRequest Queue size: 1, Store time: 1.219 ms, UUID: 90261d45-72e1-455c-bc55-6a4037f1b0e3\n",
    "2024-05-01 16:30:13.664 +0000 INFO WebSocketTransmitter - Sending: [2,\"90261d45-72e1-455c-bc55-6a4037f1b0e3\",\"StopTransaction\",{\"idTag\":\"AT-EST-CDPATEVN1-X\",\"meterStop\":11730144,\"timestamp\":\"2024-05-01T16:30:11Z\",\"transactionId\":670,\"reason\":\"Remote\",\"transactionData\":[{\"timestamp\":\"2024-05-01T16:30:11Z\",\"sampledValue\":[{\"value\":\"11730.1\",\"format\":\"Raw\",\"measurand\":\"Energy.Active.Import.Register\",\"unit\":\"kWh\"},{\"value\":\"0.00107\",\"format\":\"Raw\",\"measurand\":\"Power.Active.Import\",\"unit\":\"kW\"},{\"value\":\"43\",\"format\":\"Raw\",\"measurand\":\"SoC\",\"unit\":\"Percent\"},{\"value\":\"34\",\"format\":\"Raw\",\"measurand\":\"Temperature\",\"unit\":\"Celsius\"},{\"value\":\"0\",\"format\":\"Raw\",\"measurand\":\"Current.Import\",\"unit\":\"A\"},{\"value\":\"3630\",\"format\":\"Raw\",\"measurand\":\"RPM\"},{\"value\":\"106.6\",\"format\":\"Raw\",\"measurand\":\"Voltage\",\"unit\":\"V\"},{\"value\":\"250\",\"format\":\"Raw\",\"measurand\":\"Current.Offered\",\"unit\":\"A\"},{\"value\":\"150\",\"format\":\"Raw\",\"measurand\":\"Power.Offered\",\"unit\":\"kW\"}]},{\"timestamp\":\"2024-05-01T16:30:11Z\",\"sampledValue\":[{\"value\":\"11730.1\",\"context\":\"Transaction.Begin\",\"format\":\"Raw\",\"measurand\":\"Energy.Active.Import.Register\",\"location\":\"Outlet\",\"unit\":\"Wh\"}]},{\"timestamp\":\"2024-05-01T16:30:11Z\",\"sampledValue\":[{\"value\":\"11730.1\",\"context\":\"Transaction.End\",\"format\":\"Raw\",\"measurand\":\"Energy.Active.Import.Register\",\"location\":\"Outlet\",\"unit\":\"Wh\"}]},{\"timestamp\":\"2024-05-01T16:30:11Z\",\"sampledValue\":[{\"value\":\"OCMF|{\\\"FV\\\":\\\"1.0\\\",\\\"GI\\\":\\\"LEM DCBM\\\",\\\"GS\\\":\\\"1232581252\\\",\\\"GV\\\":\\\"v1\\\",\\\"PG\\\":\\\"T653\\\",\\\"MV\\\":\\\"LEM\\\",\\\"MS\\\":\\\"1232581252\\\",\\\"MF\\\":\\\"MU-2.3.0.1_SU-0.0.8.0\\\",\\\"IS\\\":false,\\\"IL\\\":\\\"-\\\",\\\"IF\\\":[\\\"RFID_NONE\\\",\\\"OCPP_NONE\\\",\\\"ISO15118_NONE\\\",\\\"PLMN_NONE\\\"],\\\"IT\\\":\\\"NONE\\\",\\\"ID\\\":\\\"f9970c5668dd443fa21fe395ba46f0cf\\\",\\\"CT\\\":\\\"EVSEID\\\",\\\"CI\\\":\\\"A23C2706768\\\",\\\"RD\\\":[{\\\"TM\\\":\\\"2024-05-01T18:27:41,000+0200 R\\\",\\\"TX\\\":\\\"B\\\",\\\"RV\\\":11727.040,\\\"RI\\\":\\\"1-0:1.8.0\\\",\\\"RU\\\":\\\"kWh\\\",\\\"RT\\\":\\\"DC\\\",\\\"EF\\\":\\\"\\\",\\\"ST\\\":\\\"G\\\",\\\"UC\\\":{\\\"UN\\\":\\\"2mR_Comp\\\",\\\"UI\\\":0,\\\"UR\\\":2}},{\\\"RV\\\":4.988,\\\"RI\\\":\\\"1-0:2.8.0\\\",\\\"RU\\\":\\\"kWh\\\",\\\"ST\\\":\\\"G\\\"},{\\\"TM\\\":\\\"2024-05-01T18:27:41,000+0200 R\\\",\\\"TX\\\":\\\"C\\\",\\\"RV\\\":11727.040,\\\"RI\\\":\\\"1-0:1.8.0\\\",\\\"RU\\\":\\\"kWh\\\",\\\"ST\\\":\\\"G\\\"},{\\\"RV\\\":4.988,\\\"RI\\\":\\\"1-0:2.8.0\\\",\\\"RU\\\":\\\"kWh\\\",\\\"ST\\\":\\\"G\\\"}]}|{\\\"SA\\\":\\\"ECDSA-secp256r1-SHA256\\\",\\\"SD\\\":\\\"304402206B15091EA0BD29FCFF8EE172B34212F232F6930D86ECAA344B5AE0CA76DF508B02201DD2761EA632AF0D1507015B8EC0690ED10686730ED6F87387BAC393EF588ED1\\\"}\",\"context\":\"Transaction.Begin\",\"format\":\"SignedData\",\"measurand\":\"Energy.Active.Import.Register\"}]},{\"timestamp\":\"2024-05-01T16:30:11Z\",\"sampledValue\":[{\"value\":\"OCMF|{\\\"FV\\\":\\\"1.0\\\",\\\"GI\\\":\\\"LEM DCBM\\\",\\\"GS\\\":\\\"1232581252\\\",\\\"GV\\\":\\\"v1\\\",\\\"PG\\\":\\\"T652\\\",\\\"MV\\\":\\\"LEM\\\",\\\"MS\\\":\\\"1232581252\\\",\\\"MF\\\":\\\"MU-2.3.0.1_SU-0.0.8.0\\\",\\\"IS\\\":false,\\\"IL\\\":\\\"-\\\",\\\"IF\\\":[\\\"RFID_NONE\\\",\\\"OCPP_NONE\\\",\\\"ISO15118_NONE\\\",\\\"PLMN_NONE\\\"],\\\"IT\\\":\\\"NONE\\\",\\\"ID\\\":\\\"0758a576ef0647abab353264e050092e\\\",\\\"CT\\\":\\\"EVSEID\\\",\\\"CI\\\":\\\"A23C2706768\\\",\\\"RD\\\":[{\\\"TM\\\":\\\"2024-05-01T17:03:34,000+0200 R\\\",\\\"TX\\\":\\\"B\\\",\\\"RV\\\":11691.421,\\\"RI\\\":\\\"1-0:1.8.0\\\",\\\"RU\\\":\\\"kWh\\\",\\\"RT\\\":\\\"DC\\\",\\\"EF\\\":\\\"\\\",\\\"ST\\\":\\\"G\\\",\\\"UC\\\":{\\\"UN\\\":\\\"2mR_Comp\\\",\\\"UI\\\":0,\\\"UR\\\":2}},{\\\"RV\\\":4.988,\\\"RI\\\":\\\"1-0:2.8.0\\\",\\\"RU\\\":\\\"kWh\\\",\\\"ST\\\":\\\"G\\\"},{\\\"TM\\\":\\\"2024-05-01T17:27:20,000+0200 R\\\",\\\"TX\\\":\\\"E\\\",\\\"RV\\\":11727.040,\\\"RI\\\":\\\"1-0:1.8.0\\\",\\\"RU\\\":\\\"kWh\\\",\\\"ST\\\":\\\"G\\\"},{\\\"RV\\\":4.988,\\\"RI\\\":\\\"1-0:2.8.0\\\",\\\"RU\\\":\\\"kWh\\\",\\\"ST\\\":\\\"G\\\"}]}|{\\\"SA\\\":\\\"ECDSA-secp256r1-SHA256\\\",\\\"SD\\\":\\\"304402206B15091EA0BD29FCFF8EE172B34212F232F6930D86ECAA344B5AE0CA76DF508B02205FB229A6CDAD436C3CD61AE608EDE19304B38FBCB2206894B4703D85FDCE9A98\\\"}\",\"context\":\"Transaction.End\",\"format\":\"SignedData\",\"measurand\":\"Energy.Active.Import.Register\"}]}]}]\n",
    "2024-05-01 16:30:14.947 +0000 INFO WebSocketTransmitter - Received: [3,\"90261d45-72e1-455c-bc55-6a4037f1b0e3\",{\"idTagInfo\":{\"status\":\"Accepted\"}}]\n",
    "2024-05-01 16:30:14.951 +0000 INFO RequestQueue - Queue size: 0, Store time: 1.189 ms, UUID: 90261d45-72e1-455c-bc55-6a4037f1b0e3, Request process time: 1412 ms\n",
    "2024-05-01 16:30:14.978 +0000 INFO ChargePoint - The chargePoint (com.Sungrow.ocpp.ChargePoint@16da883) works well.\n",
    "2024-05-01 16:30:14.989 +0000 INFO PipeSession - [To charging station]: b37accc8ec484bcc86be48fd4014d7e4=StopTransactionResponse={\"idTagInfo\":{\"status\":\"Accepted\"},\"connectorId\":2}\n",
    "```"
   ]
  },
  {
   "cell_type": "markdown",
   "metadata": {},
   "source": [
    "##### Stop charging by Vehicle (BMW i3)\n",
    "\n",
    "```log\n",
    "2024-04-27 12:38:32.979 +0000 INFO PipeSession - [From charging station]: bd07abd930404d638fbe95574308a464=StopTransaction={    \"connectorId\": 2,    \"idTag\": \"046679FA246C80\",    \"meterStop\": 10747765,    \"reason\": \"Local\",    \"timestamp\": \"2024-04-27T12:38:32Z\",    \"transactionData\": [        {            \"sampledValue\": [                {                    \"format\": \"Raw\",                    \"measurand\": \"Energy.Active.Import.Register\",                    \"unit\": \"kWh\",                    \"value\": \"10747.8\"                },                {                    \"format\": \"Raw\",                    \"measurand\": \"Power.Active.Import\",                    \"unit\": \"kW\",                    \"value\": \"0.000507\"                },                {                    \"format\": \"Raw\",                    \"measurand\": \"SoC\",                    \"unit\": \"Percent\",                    \"value\": \"49\"                },                {                    \"format\": \"Raw\",                    \"measurand\": \"Temperature\",                    \"unit\": \"Celsius\",                    \"value\": \"34\"                },                {                    \"format\": \"Raw\",                    \"measurand\": \"Current.Import\",                    \"unit\": \"A\",                    \"value\": \"0\"                },                {                    \"format\": \"Raw\",                    \"measurand\": \"RPM\",                    \"value\": \"3270\"                },                {                    \"format\": \"Raw\",                    \"measurand\": \"Voltage\",                    \"unit\": \"V\",                    \"value\": \"39.0\"                },                {                    \"format\": \"Raw\",                    \"measurand\": \"Current.Offered\",                    \"unit\": \"A\",                    \"value\": \"250\"                },                {                    \"format\": \"Raw\",                    \"measurand\": \"Power.Offered\",                    \"unit\": \"kW\",                    \"value\": \"150\"                }            ],            \"timestamp\": \"2024-04-27T12:38:32Z\"        },        {            \"sampledValue\": [                {                    \"context\": \"Transaction.Begin\",                    \"format\": \"Raw\",                    \"location\": \"Outlet\",                    \"measurand\": \"Energy.Active.Import.Register\",                    \"unit\": \"Wh\",                    \"value\": \"10747.8\"                }            ],            \"timestamp\": \"2024-04-27T12:38:32Z\"        },        {            \"sampledValue\": [                {                    \"context\": \"Transaction.End\",                    \"format\": \"Raw\",                    \"location\": \"Outlet\",                    \"measurand\": \"Energy.Active.Import.Register\",                    \"unit\": \"Wh\",                    \"value\": \"10747.8\"                }            ],            \"timestamp\": \"2024-04-27T12:38:32Z\"        },        {            \"sampledValue\": [                {                    \"context\": \"Transaction.Begin\",                    \"format\": \"SignedData\",                    \"measurand\": \"Energy.Active.Import.Register\",                    \"value\": \"OCMF|{\\\"FV\\\":\\\"1.0\\\",\\\"GI\\\":\\\"LEM DCBM\\\",\\\"GS\\\":\\\"1232581252\\\",\\\"GV\\\":\\\"v1\\\",\\\"PG\\\":\\\"T608\\\",\\\"MV\\\":\\\"LEM\\\",\\\"MS\\\":\\\"1232581252\\\",\\\"MF\\\":\\\"MU-2.3.0.1_SU-0.0.8.0\\\",\\\"IS\\\":false,\\\"IL\\\":\\\"-\\\",\\\"IF\\\":[\\\"RFID_NONE\\\",\\\"OCPP_NONE\\\",\\\"ISO15118_NONE\\\",\\\"PLMN_NONE\\\"],\\\"IT\\\":\\\"NONE\\\",\\\"ID\\\":\\\"5d64443de68c49dca0db0772aa59b312\\\",\\\"CT\\\":\\\"EVSEID\\\",\\\"CI\\\":\\\"A23C2706768\\\",\\\"RD\\\":[{\\\"TM\\\":\\\"2024-04-27T14:37:08,000+0200 R\\\",\\\"TX\\\":\\\"B\\\",\\\"RV\\\":10747.296,\\\"RI\\\":\\\"1-0:1.8.0\\\",\\\"RU\\\":\\\"kWh\\\",\\\"RT\\\":\\\"DC\\\",\\\"EF\\\":\\\"\\\",\\\"ST\\\":\\\"G\\\",\\\"UC\\\":{\\\"UN\\\":\\\"2mR_Comp\\\",\\\"UI\\\":0,\\\"UR\\\":2}},{\\\"RV\\\":4.988,\\\"RI\\\":\\\"1-0:2.8.0\\\",\\\"RU\\\":\\\"kWh\\\",\\\"ST\\\":\\\"G\\\"},{\\\"TM\\\":\\\"2024-04-27T14:37:08,000+0200 R\\\",\\\"TX\\\":\\\"C\\\",\\\"RV\\\":10747.296,\\\"RI\\\":\\\"1-0:1.8.0\\\",\\\"RU\\\":\\\"kWh\\\",\\\"ST\\\":\\\"G\\\"},{\\\"RV\\\":4.988,\\\"RI\\\":\\\"1-0:2.8.0\\\",\\\"RU\\\":\\\"kWh\\\",\\\"ST\\\":\\\"G\\\"}]}|{\\\"SA\\\":\\\"ECDSA-secp256r1-SHA256\\\",\\\"SD\\\":\\\"304502206B15091EA0BD29FCFF8EE172B34212F232F6930D86ECAA344B5AE0CA76DF508B022100BD2FC3D03A3E8EC70440C171D9E5EF6E6F9C49D9E769F19F2AB7132FC5CD4E2A\\\"}\"                }            ],            \"timestamp\": \"2024-04-27T12:38:32Z\"        },        {            \"sampledValue\": [                {                    \"context\": \"Transaction.End\",                    \"format\": \"SignedData\",                    \"measurand\": \"Energy.Active.Import.Register\",                    \"value\": \"OCMF|{\\\"FV\\\":\\\"1.0\\\",\\\"GI\\\":\\\"LEM DCBM\\\",\\\"GS\\\":\\\"1232581252\\\",\\\"GV\\\":\\\"v1\\\",\\\"PG\\\":\\\"T608\\\",\\\"MV\\\":\\\"LEM\\\",\\\"MS\\\":\\\"1232581252\\\",\\\"MF\\\":\\\"MU-2.3.0.1_SU-0.0.8.0\\\",\\\"IS\\\":false,\\\"IL\\\":\\\"-\\\",\\\"IF\\\":[\\\"RFID_NONE\\\",\\\"OCPP_NONE\\\",\\\"ISO15118_NONE\\\",\\\"PLMN_NONE\\\"],\\\"IT\\\":\\\"NONE\\\",\\\"ID\\\":\\\"5d64443de68c49dca0db0772aa59b312\\\",\\\"CT\\\":\\\"EVSEID\\\",\\\"CI\\\":\\\"A23C2706768\\\",\\\"RD\\\":[{\\\"TM\\\":\\\"2024-04-27T14:37:08,000+0200 R\\\",\\\"TX\\\":\\\"B\\\",\\\"RV\\\":10747.296,\\\"RI\\\":\\\"1-0:1.8.0\\\",\\\"RU\\\":\\\"kWh\\\",\\\"RT\\\":\\\"DC\\\",\\\"EF\\\":\\\"\\\",\\\"ST\\\":\\\"G\\\",\\\"UC\\\":{\\\"UN\\\":\\\"2mR_Comp\\\",\\\"UI\\\":0,\\\"UR\\\":2}},{\\\"RV\\\":4.988,\\\"RI\\\":\\\"1-0:2.8.0\\\",\\\"RU\\\":\\\"kWh\\\",\\\"ST\\\":\\\"G\\\"},{\\\"TM\\\":\\\"2024-04-27T14:38:30,000+0200 R\\\",\\\"TX\\\":\\\"E\\\",\\\"RV\\\":10747.765,\\\"RI\\\":\\\"1-0:1.8.0\\\",\\\"RU\\\":\\\"kWh\\\",\\\"ST\\\":\\\"G\\\"},{\\\"RV\\\":4.988,\\\"RI\\\":\\\"1-0:2.8.0\\\",\\\"RU\\\":\\\"kWh\\\",\\\"ST\\\":\\\"G\\\"}]}|{\\\"SA\\\":\\\"ECDSA-secp256r1-SHA256\\\",\\\"SD\\\":\\\"304502206B15091EA0BD29FCFF8EE172B34212F232F6930D86ECAA344B5AE0CA76DF508B022100A766F6EAED4D0D8604421A5C4BD345F146A3515A61011543FB00A864BC164A58\\\"}\"                }            ],            \"timestamp\": \"2024-04-27T12:38:32Z\"        }    ],    \"transactionId\": 601}\n",
    "2024-04-27 12:38:33.124 +0000 INFO ChargePoint - The chargePoint (com.Sungrow.ocpp.ChargePoint@16da883) works well.\n",
    "2024-04-27 12:38:33.138 +0000 INFO RequestQueue - SendRequest Queue size: 1, Store time: 1.001 ms, UUID: 8b351ba1-3e3d-4d45-97e7-34671d93040f\n",
    "2024-04-27 12:38:33.254 +0000 INFO WebSocketTransmitter - Sending: [2,\"8b351ba1-3e3d-4d45-97e7-34671d93040f\",\"StopTransaction\",{\"idTag\":\"046679FA246C80\",\"meterStop\":10747765,\"timestamp\":\"2024-04-27T12:38:32Z\",\"transactionId\":601,\"reason\":\"Local\",\"transactionData\":[{\"timestamp\":\"2024-04-27T12:38:32Z\",\"sampledValue\":[{\"value\":\"10747.8\",\"format\":\"Raw\",\"measurand\":\"Energy.Active.Import.Register\",\"unit\":\"kWh\"},{\"value\":\"0.000507\",\"format\":\"Raw\",\"measurand\":\"Power.Active.Import\",\"unit\":\"kW\"},{\"value\":\"49\",\"format\":\"Raw\",\"measurand\":\"SoC\",\"unit\":\"Percent\"},{\"value\":\"34\",\"format\":\"Raw\",\"measurand\":\"Temperature\",\"unit\":\"Celsius\"},{\"value\":\"0\",\"format\":\"Raw\",\"measurand\":\"Current.Import\",\"unit\":\"A\"},{\"value\":\"3270\",\"format\":\"Raw\",\"measurand\":\"RPM\"},{\"value\":\"39.0\",\"format\":\"Raw\",\"measurand\":\"Voltage\",\"unit\":\"V\"},{\"value\":\"250\",\"format\":\"Raw\",\"measurand\":\"Current.Offered\",\"unit\":\"A\"},{\"value\":\"150\",\"format\":\"Raw\",\"measurand\":\"Power.Offered\",\"unit\":\"kW\"}]},{\"timestamp\":\"2024-04-27T12:38:32Z\",\"sampledValue\":[{\"value\":\"10747.8\",\"context\":\"Transaction.Begin\",\"format\":\"Raw\",\"measurand\":\"Energy.Active.Import.Register\",\"location\":\"Outlet\",\"unit\":\"Wh\"}]},{\"timestamp\":\"2024-04-27T12:38:32Z\",\"sampledValue\":[{\"value\":\"10747.8\",\"context\":\"Transaction.End\",\"format\":\"Raw\",\"measurand\":\"Energy.Active.Import.Register\",\"location\":\"Outlet\",\"unit\":\"Wh\"}]},{\"timestamp\":\"2024-04-27T12:38:32Z\",\"sampledValue\":[{\"value\":\"OCMF|{\\\"FV\\\":\\\"1.0\\\",\\\"GI\\\":\\\"LEM DCBM\\\",\\\"GS\\\":\\\"1232581252\\\",\\\"GV\\\":\\\"v1\\\",\\\"PG\\\":\\\"T608\\\",\\\"MV\\\":\\\"LEM\\\",\\\"MS\\\":\\\"1232581252\\\",\\\"MF\\\":\\\"MU-2.3.0.1_SU-0.0.8.0\\\",\\\"IS\\\":false,\\\"IL\\\":\\\"-\\\",\\\"IF\\\":[\\\"RFID_NONE\\\",\\\"OCPP_NONE\\\",\\\"ISO15118_NONE\\\",\\\"PLMN_NONE\\\"],\\\"IT\\\":\\\"NONE\\\",\\\"ID\\\":\\\"5d64443de68c49dca0db0772aa59b312\\\",\\\"CT\\\":\\\"EVSEID\\\",\\\"CI\\\":\\\"A23C2706768\\\",\\\"RD\\\":[{\\\"TM\\\":\\\"2024-04-27T14:37:08,000+0200 R\\\",\\\"TX\\\":\\\"B\\\",\\\"RV\\\":10747.296,\\\"RI\\\":\\\"1-0:1.8.0\\\",\\\"RU\\\":\\\"kWh\\\",\\\"RT\\\":\\\"DC\\\",\\\"EF\\\":\\\"\\\",\\\"ST\\\":\\\"G\\\",\\\"UC\\\":{\\\"UN\\\":\\\"2mR_Comp\\\",\\\"UI\\\":0,\\\"UR\\\":2}},{\\\"RV\\\":4.988,\\\"RI\\\":\\\"1-0:2.8.0\\\",\\\"RU\\\":\\\"kWh\\\",\\\"ST\\\":\\\"G\\\"},{\\\"TM\\\":\\\"2024-04-27T14:37:08,000+0200 R\\\",\\\"TX\\\":\\\"C\\\",\\\"RV\\\":10747.296,\\\"RI\\\":\\\"1-0:1.8.0\\\",\\\"RU\\\":\\\"kWh\\\",\\\"ST\\\":\\\"G\\\"},{\\\"RV\\\":4.988,\\\"RI\\\":\\\"1-0:2.8.0\\\",\\\"RU\\\":\\\"kWh\\\",\\\"ST\\\":\\\"G\\\"}]}|{\\\"SA\\\":\\\"ECDSA-secp256r1-SHA256\\\",\\\"SD\\\":\\\"304502206B15091EA0BD29FCFF8EE172B34212F232F6930D86ECAA344B5AE0CA76DF508B022100BD2FC3D03A3E8EC70440C171D9E5EF6E6F9C49D9E769F19F2AB7132FC5CD4E2A\\\"}\",\"context\":\"Transaction.Begin\",\"format\":\"SignedData\",\"measurand\":\"Energy.Active.Import.Register\"}]},{\"timestamp\":\"2024-04-27T12:38:32Z\",\"sampledValue\":[{\"value\":\"OCMF|{\\\"FV\\\":\\\"1.0\\\",\\\"GI\\\":\\\"LEM DCBM\\\",\\\"GS\\\":\\\"1232581252\\\",\\\"GV\\\":\\\"v1\\\",\\\"PG\\\":\\\"T608\\\",\\\"MV\\\":\\\"LEM\\\",\\\"MS\\\":\\\"1232581252\\\",\\\"MF\\\":\\\"MU-2.3.0.1_SU-0.0.8.0\\\",\\\"IS\\\":false,\\\"IL\\\":\\\"-\\\",\\\"IF\\\":[\\\"RFID_NONE\\\",\\\"OCPP_NONE\\\",\\\"ISO15118_NONE\\\",\\\"PLMN_NONE\\\"],\\\"IT\\\":\\\"NONE\\\",\\\"ID\\\":\\\"5d64443de68c49dca0db0772aa59b312\\\",\\\"CT\\\":\\\"EVSEID\\\",\\\"CI\\\":\\\"A23C2706768\\\",\\\"RD\\\":[{\\\"TM\\\":\\\"2024-04-27T14:37:08,000+0200 R\\\",\\\"TX\\\":\\\"B\\\",\\\"RV\\\":10747.296,\\\"RI\\\":\\\"1-0:1.8.0\\\",\\\"RU\\\":\\\"kWh\\\",\\\"RT\\\":\\\"DC\\\",\\\"EF\\\":\\\"\\\",\\\"ST\\\":\\\"G\\\",\\\"UC\\\":{\\\"UN\\\":\\\"2mR_Comp\\\",\\\"UI\\\":0,\\\"UR\\\":2}},{\\\"RV\\\":4.988,\\\"RI\\\":\\\"1-0:2.8.0\\\",\\\"RU\\\":\\\"kWh\\\",\\\"ST\\\":\\\"G\\\"},{\\\"TM\\\":\\\"2024-04-27T14:38:30,000+0200 R\\\",\\\"TX\\\":\\\"E\\\",\\\"RV\\\":10747.765,\\\"RI\\\":\\\"1-0:1.8.0\\\",\\\"RU\\\":\\\"kWh\\\",\\\"ST\\\":\\\"G\\\"},{\\\"RV\\\":4.988,\\\"RI\\\":\\\"1-0:2.8.0\\\",\\\"RU\\\":\\\"kWh\\\",\\\"ST\\\":\\\"G\\\"}]}|{\\\"SA\\\":\\\"ECDSA-secp256r1-SHA256\\\",\\\"SD\\\":\\\"304502206B15091EA0BD29FCFF8EE172B34212F232F6930D86ECAA344B5AE0CA76DF508B022100A766F6EAED4D0D8604421A5C4BD345F146A3515A61011543FB00A864BC164A58\\\"}\",\"context\":\"Transaction.End\",\"format\":\"SignedData\",\"measurand\":\"Energy.Active.Import.Register\"}]}]}]\n",
    "2024-04-27 12:38:33.865 +0000 INFO WebSocketTransmitter - Received: [3,\"8b351ba1-3e3d-4d45-97e7-34671d93040f\",{\"idTagInfo\":{\"status\":\"Accepted\"}}]\n",
    "2024-04-27 12:38:33.876 +0000 INFO RequestQueue - Queue size: 0, Store time: 2.732 ms, UUID: 8b351ba1-3e3d-4d45-97e7-34671d93040f, Request process time: 736 ms\n",
    "2024-04-27 12:38:33.908 +0000 INFO ChargePoint - The chargePoint (com.Sungrow.ocpp.ChargePoint@16da883) works well.\n",
    "```"
   ]
  },
  {
   "cell_type": "markdown",
   "metadata": {},
   "source": [
    "##### Stop charging by reaching 100% SOC\n",
    "\n",
    "\n",
    "```log\n",
    "2024-04-27 12:58:58.166 +0000 INFO PipeSession - [From charging station]: 205ab13185c14c708bf0edf7447010b7=StopTransaction={    \"connectorId\": 1,    \"idTag\": \"043916AAEC7181\",    \"meterStop\": 7360653,    \"reason\": \"Local\",    \"timestamp\": \"2024-04-27T12:58:57Z\",    \"transactionData\": [        {            \"sampledValue\": [                {                    \"format\": \"Raw\",                    \"measurand\": \"Energy.Active.Import.Register\",                    \"unit\": \"kWh\",                    \"value\": \"7360.65\"                },                {                    \"format\": \"Raw\",                    \"measurand\": \"Power.Active.Import\",                    \"unit\": \"kW\",                    \"value\": \"0.00025\"                },                {                    \"format\": \"Raw\",                    \"measurand\": \"SoC\",                    \"unit\": \"Percent\",                    \"value\": \"58\"                },                {                    \"format\": \"Raw\",                    \"measurand\": \"Temperature\",                    \"unit\": \"Celsius\",                    \"value\": \"35\"                },                {                    \"format\": \"Raw\",                    \"measurand\": \"Current.Import\",                    \"unit\": \"A\",                    \"value\": \"0\"                },                {                    \"format\": \"Raw\",                    \"measurand\": \"RPM\",                    \"value\": \"0\"                },                {                    \"format\": \"Raw\",                    \"measurand\": \"Voltage\",                    \"unit\": \"V\",                    \"value\": \"50.0\"                },                {                    \"format\": \"Raw\",                    \"measurand\": \"Current.Offered\",                    \"unit\": \"A\",                    \"value\": \"250\"                },                {                    \"format\": \"Raw\",                    \"measurand\": \"Power.Offered\",                    \"unit\": \"kW\",                    \"value\": \"150\"                }            ],            \"timestamp\": \"2024-04-27T12:58:57Z\"        },        {            \"sampledValue\": [                {                    \"context\": \"Transaction.Begin\",                    \"format\": \"Raw\",                    \"location\": \"Outlet\",                    \"measurand\": \"Energy.Active.Import.Register\",                    \"unit\": \"Wh\",                    \"value\": \"7360.65\"                }            ],            \"timestamp\": \"2024-04-27T12:58:57Z\"        },        {            \"sampledValue\": [                {                    \"context\": \"Transaction.End\",                    \"format\": \"Raw\",                    \"location\": \"Outlet\",                    \"measurand\": \"Energy.Active.Import.Register\",                    \"unit\": \"Wh\",                    \"value\": \"7360.65\"                }            ],            \"timestamp\": \"2024-04-27T12:58:57Z\"        },        {            \"sampledValue\": [                {                    \"context\": \"Transaction.Begin\",                    \"format\": \"SignedData\",                    \"measurand\": \"Energy.Active.Import.Register\",                    \"value\": \"OCMF|{\\\"FV\\\":\\\"1.0\\\",\\\"GI\\\":\\\"LEM DCBM\\\",\\\"GS\\\":\\\"1232581409\\\",\\\"GV\\\":\\\"v1\\\",\\\"PG\\\":\\\"T368\\\",\\\"MV\\\":\\\"LEM\\\",\\\"MS\\\":\\\"1232581409\\\",\\\"MF\\\":\\\"MU-2.3.0.1_SU-0.0.8.0\\\",\\\"IS\\\":false,\\\"IL\\\":\\\"-\\\",\\\"IF\\\":[\\\"RFID_NONE\\\",\\\"OCPP_NONE\\\",\\\"ISO15118_NONE\\\",\\\"PLMN_NONE\\\"],\\\"IT\\\":\\\"NONE\\\",\\\"ID\\\":\\\"6099bb2b905e4e2ebe066ab3e1ac1cc9\\\",\\\"CT\\\":\\\"EVSEID\\\",\\\"CI\\\":\\\"A23C2706768\\\",\\\"RD\\\":[{\\\"TM\\\":\\\"2024-04-27T14:39:12,000+0200 R\\\",\\\"TX\\\":\\\"B\\\",\\\"RV\\\":7331.641,\\\"RI\\\":\\\"1-0:1.8.0\\\",\\\"RU\\\":\\\"kWh\\\",\\\"RT\\\":\\\"DC\\\",\\\"EF\\\":\\\"\\\",\\\"ST\\\":\\\"G\\\",\\\"UC\\\":{\\\"UN\\\":\\\"2mR_Comp\\\",\\\"UI\\\":0,\\\"UR\\\":2}},{\\\"RV\\\":4.909,\\\"RI\\\":\\\"1-0:2.8.0\\\",\\\"RU\\\":\\\"kWh\\\",\\\"ST\\\":\\\"G\\\"},{\\\"TM\\\":\\\"2024-04-27T14:39:12,000+0200 R\\\",\\\"TX\\\":\\\"C\\\",\\\"RV\\\":7331.641,\\\"RI\\\":\\\"1-0:1.8.0\\\",\\\"RU\\\":\\\"kWh\\\",\\\"ST\\\":\\\"G\\\"},{\\\"RV\\\":4.909,\\\"RI\\\":\\\"1-0:2.8.0\\\",\\\"RU\\\":\\\"kWh\\\",\\\"ST\\\":\\\"G\\\"}]}|{\\\"SA\\\":\\\"ECDSA-secp256r1-SHA256\\\",\\\"SD\\\":\\\"30460221009013EE56B063A10DB5251D929C6C7F7D96D0EB921D3D70EB698E26325433E69B022100CB3040032721AA2F80DEACF7700E0A9D52AC596751ABB835D962B08FC1DECC42\\\"}\"                }            ],            \"timestamp\": \"2024-04-27T12:58:57Z\"        },        {            \"sampledValue\": [                {                    \"context\": \"Transaction.End\",                    \"format\": \"SignedData\",                    \"measurand\": \"Energy.Active.Import.Register\",                    \"value\": \"OCMF|{\\\"FV\\\":\\\"1.0\\\",\\\"GI\\\":\\\"LEM DCBM\\\",\\\"GS\\\":\\\"1232581409\\\",\\\"GV\\\":\\\"v1\\\",\\\"PG\\\":\\\"T367\\\",\\\"MV\\\":\\\"LEM\\\",\\\"MS\\\":\\\"1232581409\\\",\\\"MF\\\":\\\"MU-2.3.0.1_SU-0.0.8.0\\\",\\\"IS\\\":false,\\\"IL\\\":\\\"-\\\",\\\"IF\\\":[\\\"RFID_NONE\\\",\\\"OCPP_NONE\\\",\\\"ISO15118_NONE\\\",\\\"PLMN_NONE\\\"],\\\"IT\\\":\\\"NONE\\\",\\\"ID\\\":\\\"6d485a15ac7740bb9af50576ea4857c5\\\",\\\"CT\\\":\\\"EVSEID\\\",\\\"CI\\\":\\\"A23C2706768\\\",\\\"RD\\\":[{\\\"TM\\\":\\\"2024-04-27T12:39:31,000+0200 R\\\",\\\"TX\\\":\\\"B\\\",\\\"RV\\\":7302.707,\\\"RI\\\":\\\"1-0:1.8.0\\\",\\\"RU\\\":\\\"kWh\\\",\\\"RT\\\":\\\"DC\\\",\\\"EF\\\":\\\"\\\",\\\"ST\\\":\\\"G\\\",\\\"UC\\\":{\\\"UN\\\":\\\"2mR_Comp\\\",\\\"UI\\\":0,\\\"UR\\\":2}},{\\\"RV\\\":4.909,\\\"RI\\\":\\\"1-0:2.8.0\\\",\\\"RU\\\":\\\"kWh\\\",\\\"ST\\\":\\\"G\\\"},{\\\"TM\\\":\\\"2024-04-27T13:29:05,000+0200 R\\\",\\\"TX\\\":\\\"E\\\",\\\"RV\\\":7331.641,\\\"RI\\\":\\\"1-0:1.8.0\\\",\\\"RU\\\":\\\"kWh\\\",\\\"ST\\\":\\\"G\\\"},{\\\"RV\\\":4.909,\\\"RI\\\":\\\"1-0:2.8.0\\\",\\\"RU\\\":\\\"kWh\\\",\\\"ST\\\":\\\"G\\\"}]}|{\\\"SA\\\":\\\"ECDSA-secp256r1-SHA256\\\",\\\"SD\\\":\\\"30460221009013EE56B063A10DB5251D929C6C7F7D96D0EB921D3D70EB698E26325433E69B0221008A752448EE8E864B73E1A5DA86A0FF450FB7699C35019AAD60F22FD538653E14\\\"}\"                }            ],            \"timestamp\": \"2024-04-27T12:58:57Z\"        }    ],    \"transactionId\": 602}\n",
    "2024-04-27 12:58:58.321 +0000 INFO ChargePoint - The chargePoint (com.Sungrow.ocpp.ChargePoint@16da883) works well.\n",
    "2024-04-27 12:58:58.325 +0000 INFO RequestQueue - SendRequest Queue size: 1, Store time: 1.540 ms, UUID: 8adc9fea-9802-4279-b09f-adc8ecb0557e\n",
    "2024-04-27 12:58:58.464 +0000 INFO WebSocketTransmitter - Sending: [2,\"8adc9fea-9802-4279-b09f-adc8ecb0557e\",\"StopTransaction\",{\"idTag\":\"043916AAEC7181\",\"meterStop\":7360653,\"timestamp\":\"2024-04-27T12:58:57Z\",\"transactionId\":602,\"reason\":\"Local\",\"transactionData\":[{\"timestamp\":\"2024-04-27T12:58:57Z\",\"sampledValue\":[{\"value\":\"7360.65\",\"format\":\"Raw\",\"measurand\":\"Energy.Active.Import.Register\",\"unit\":\"kWh\"},{\"value\":\"0.00025\",\"format\":\"Raw\",\"measurand\":\"Power.Active.Import\",\"unit\":\"kW\"},{\"value\":\"58\",\"format\":\"Raw\",\"measurand\":\"SoC\",\"unit\":\"Percent\"},{\"value\":\"35\",\"format\":\"Raw\",\"measurand\":\"Temperature\",\"unit\":\"Celsius\"},{\"value\":\"0\",\"format\":\"Raw\",\"measurand\":\"Current.Import\",\"unit\":\"A\"},{\"value\":\"0\",\"format\":\"Raw\",\"measurand\":\"RPM\"},{\"value\":\"50.0\",\"format\":\"Raw\",\"measurand\":\"Voltage\",\"unit\":\"V\"},{\"value\":\"250\",\"format\":\"Raw\",\"measurand\":\"Current.Offered\",\"unit\":\"A\"},{\"value\":\"150\",\"format\":\"Raw\",\"measurand\":\"Power.Offered\",\"unit\":\"kW\"}]},{\"timestamp\":\"2024-04-27T12:58:57Z\",\"sampledValue\":[{\"value\":\"7360.65\",\"context\":\"Transaction.Begin\",\"format\":\"Raw\",\"measurand\":\"Energy.Active.Import.Register\",\"location\":\"Outlet\",\"unit\":\"Wh\"}]},{\"timestamp\":\"2024-04-27T12:58:57Z\",\"sampledValue\":[{\"value\":\"7360.65\",\"context\":\"Transaction.End\",\"format\":\"Raw\",\"measurand\":\"Energy.Active.Import.Register\",\"location\":\"Outlet\",\"unit\":\"Wh\"}]},{\"timestamp\":\"2024-04-27T12:58:57Z\",\"sampledValue\":[{\"value\":\"OCMF|{\\\"FV\\\":\\\"1.0\\\",\\\"GI\\\":\\\"LEM DCBM\\\",\\\"GS\\\":\\\"1232581409\\\",\\\"GV\\\":\\\"v1\\\",\\\"PG\\\":\\\"T368\\\",\\\"MV\\\":\\\"LEM\\\",\\\"MS\\\":\\\"1232581409\\\",\\\"MF\\\":\\\"MU-2.3.0.1_SU-0.0.8.0\\\",\\\"IS\\\":false,\\\"IL\\\":\\\"-\\\",\\\"IF\\\":[\\\"RFID_NONE\\\",\\\"OCPP_NONE\\\",\\\"ISO15118_NONE\\\",\\\"PLMN_NONE\\\"],\\\"IT\\\":\\\"NONE\\\",\\\"ID\\\":\\\"6099bb2b905e4e2ebe066ab3e1ac1cc9\\\",\\\"CT\\\":\\\"EVSEID\\\",\\\"CI\\\":\\\"A23C2706768\\\",\\\"RD\\\":[{\\\"TM\\\":\\\"2024-04-27T14:39:12,000+0200 R\\\",\\\"TX\\\":\\\"B\\\",\\\"RV\\\":7331.641,\\\"RI\\\":\\\"1-0:1.8.0\\\",\\\"RU\\\":\\\"kWh\\\",\\\"RT\\\":\\\"DC\\\",\\\"EF\\\":\\\"\\\",\\\"ST\\\":\\\"G\\\",\\\"UC\\\":{\\\"UN\\\":\\\"2mR_Comp\\\",\\\"UI\\\":0,\\\"UR\\\":2}},{\\\"RV\\\":4.909,\\\"RI\\\":\\\"1-0:2.8.0\\\",\\\"RU\\\":\\\"kWh\\\",\\\"ST\\\":\\\"G\\\"},{\\\"TM\\\":\\\"2024-04-27T14:39:12,000+0200 R\\\",\\\"TX\\\":\\\"C\\\",\\\"RV\\\":7331.641,\\\"RI\\\":\\\"1-0:1.8.0\\\",\\\"RU\\\":\\\"kWh\\\",\\\"ST\\\":\\\"G\\\"},{\\\"RV\\\":4.909,\\\"RI\\\":\\\"1-0:2.8.0\\\",\\\"RU\\\":\\\"kWh\\\",\\\"ST\\\":\\\"G\\\"}]}|{\\\"SA\\\":\\\"ECDSA-secp256r1-SHA256\\\",\\\"SD\\\":\\\"30460221009013EE56B063A10DB5251D929C6C7F7D96D0EB921D3D70EB698E26325433E69B022100CB3040032721AA2F80DEACF7700E0A9D52AC596751ABB835D962B08FC1DECC42\\\"}\",\"context\":\"Transaction.Begin\",\"format\":\"SignedData\",\"measurand\":\"Energy.Active.Import.Register\"}]},{\"timestamp\":\"2024-04-27T12:58:57Z\",\"sampledValue\":[{\"value\":\"OCMF|{\\\"FV\\\":\\\"1.0\\\",\\\"GI\\\":\\\"LEM DCBM\\\",\\\"GS\\\":\\\"1232581409\\\",\\\"GV\\\":\\\"v1\\\",\\\"PG\\\":\\\"T367\\\",\\\"MV\\\":\\\"LEM\\\",\\\"MS\\\":\\\"1232581409\\\",\\\"MF\\\":\\\"MU-2.3.0.1_SU-0.0.8.0\\\",\\\"IS\\\":false,\\\"IL\\\":\\\"-\\\",\\\"IF\\\":[\\\"RFID_NONE\\\",\\\"OCPP_NONE\\\",\\\"ISO15118_NONE\\\",\\\"PLMN_NONE\\\"],\\\"IT\\\":\\\"NONE\\\",\\\"ID\\\":\\\"6d485a15ac7740bb9af50576ea4857c5\\\",\\\"CT\\\":\\\"EVSEID\\\",\\\"CI\\\":\\\"A23C2706768\\\",\\\"RD\\\":[{\\\"TM\\\":\\\"2024-04-27T12:39:31,000+0200 R\\\",\\\"TX\\\":\\\"B\\\",\\\"RV\\\":7302.707,\\\"RI\\\":\\\"1-0:1.8.0\\\",\\\"RU\\\":\\\"kWh\\\",\\\"RT\\\":\\\"DC\\\",\\\"EF\\\":\\\"\\\",\\\"ST\\\":\\\"G\\\",\\\"UC\\\":{\\\"UN\\\":\\\"2mR_Comp\\\",\\\"UI\\\":0,\\\"UR\\\":2}},{\\\"RV\\\":4.909,\\\"RI\\\":\\\"1-0:2.8.0\\\",\\\"RU\\\":\\\"kWh\\\",\\\"ST\\\":\\\"G\\\"},{\\\"TM\\\":\\\"2024-04-27T13:29:05,000+0200 R\\\",\\\"TX\\\":\\\"E\\\",\\\"RV\\\":7331.641,\\\"RI\\\":\\\"1-0:1.8.0\\\",\\\"RU\\\":\\\"kWh\\\",\\\"ST\\\":\\\"G\\\"},{\\\"RV\\\":4.909,\\\"RI\\\":\\\"1-0:2.8.0\\\",\\\"RU\\\":\\\"kWh\\\",\\\"ST\\\":\\\"G\\\"}]}|{\\\"SA\\\":\\\"ECDSA-secp256r1-SHA256\\\",\\\"SD\\\":\\\"30460221009013EE56B063A10DB5251D929C6C7F7D96D0EB921D3D70EB698E26325433E69B0221008A752448EE8E864B73E1A5DA86A0FF450FB7699C35019AAD60F22FD538653E14\\\"}\",\"context\":\"Transaction.End\",\"format\":\"SignedData\",\"measurand\":\"Energy.Active.Import.Register\"}]}]}]\n",
    "2024-04-27 12:58:59.083 +0000 INFO WebSocketTransmitter - Received: [3,\"8adc9fea-9802-4279-b09f-adc8ecb0557e\",{\"idTagInfo\":{\"status\":\"Accepted\"}}]\n",
    "2024-04-27 12:58:59.094 +0000 INFO RequestQueue - Queue size: 0, Store time: 998.3 ?s, UUID: 8adc9fea-9802-4279-b09f-adc8ecb0557e, Request process time: 768 ms\n",
    "2024-04-27 12:58:59.105 +0000 INFO ChargePoint - The chargePoint (com.Sungrow.ocpp.ChargePoint@16da883) works well.\n",
    "```"
   ]
  },
  {
   "cell_type": "markdown",
   "metadata": {},
   "source": [
    "##### StopTransaction acception failure by CPO\n",
    "A23C2706768Vocpp.log\n",
    "WARN PipeEventHandlerImpl - HandleStopTransaction ExecutionException"
   ]
  },
  {
   "cell_type": "markdown",
   "metadata": {},
   "source": [
    "##### StopTransaction accepted and charging session stopped successfully\n",
    "A23C2706768VMainProcess.log\n",
    "StateSwicthed:from \"State_Finishing_Payment_Not_Ready\" to: \"State_Authurize\""
   ]
  },
  {
   "cell_type": "markdown",
   "metadata": {},
   "source": [
    "##### Sending StopTransaction with value of charging power expressed in scientific notification\n",
    "\n",
    "```log\n",
    "2024-04-24 00:03:43.924 +0000 INFO WebSocketTransmitter - Sending: [2,\"9c5b687a-19a0-4880-926a-549bf7f337eb\",\"StopTransaction\",{\"idTag\":\"0482466A9E6F80\",\"meterStop\":6851429,\"timestamp\":\"2024-04-24T00:03:42Z\",\"transactionId\":544,\"reason\":\"Local\",\"transactionData\":[{\"timestamp\":\"2024-04-24T04:38:24Z\",\"sampledValue\":[{\"value\":\"6851.43\",\"format\":\"Raw\",\"measurand\":\"Energy.Active.Import.Register\",\"unit\":\"kWh\"},{\"value\":\"3.48e-05\",\"format\":\"Raw\",\"measurand\":\"Power.Active.Import\",\"unit\":\"kW\"},{\"value\":\"82\",\"format\":\"Raw\",\"measurand\":\"SoC\",\"unit\":\"Percent\"},{\"value\":\"12\",\"format\":\"Raw\",\"measurand\":\"Temperature\",\"unit\":\"Celsius\"},{\"value\":\"0.001\",\"format\":\"Raw\",\"measurand\":\"Current.Import\",\"unit\":\"A\"},{\"value\":\"0\",\"format\":\"Raw\",\"measurand\":\"RPM\"},{\"value\":\"34.8\",\"format\":\"Raw\",\"measurand\":\"Voltage\",\"unit\":\"V\"},{\"value\":\"0\",\"format\":\"Raw\",\"measurand\":\"Current.Offered\",\"unit\":\"A\"},{\"value\":\"0\",\"format\":\"Raw\",\"measurand\":\"Power.Offered\",\"unit\":\"kW\"}]},{\"timestamp\":\"2024-04-24T04:38:24Z\",\"sampledValue\":[{\"value\":\"6851.43\",\"context\":\"Transaction.Begin\",\"format\":\"Raw\",\"measurand\":\"Energy.Active.Import.Register\",\"location\":\"Outlet\",\"unit\":\"Wh\"}]},{\"timestamp\":\"2024-04-24T04:38:24Z\",\"sampledValue\":[{\"value\":\"6851.43\",\"context\":\"Transaction.End\",\"format\":\"Raw\",\"measurand\":\"Energy.Active.Import.Register\",\"location\":\"Outlet\",\"unit\":\"Wh\"}]},{\"timestamp\":\"2024-04-24T04:38:24Z\",\"sampledValue\":[{\"value\":\"OCMF|{\\\"FV\\\":\\\"1.0\\\",\\\"GI\\\":\\\"LEM DCBM\\\",\\\"GS\\\":\\\"1232581409\\\",\\\"GV\\\":\\\"v1\\\",\\\"PG\\\":\\\"T346\\\",\\\"MV\\\":\\\"LEM\\\",\\\"MS\\\":\\\"1232581409\\\",\\\"MF\\\":\\\"MU-2.3.0.1_SU-0.0.8.0\\\",\\\"IS\\\":false,\\\"IL\\\":\\\"-\\\",\\\"IF\\\":[\\\"RFID_NONE\\\",\\\"OCPP_NONE\\\",\\\"ISO15118_NONE\\\",\\\"PLMN_NONE\\\"],\\\"IT\\\":\\\"NONE\\\",\\\"ID\\\":\\\"ea84f9995415400fa5d6722b2f8a33a3\\\",\\\"CT\\\":\\\"EVSEID\\\",\\\"CI\\\":\\\"A23C2706768\\\",\\\"RD\\\":[{\\\"TM\\\":\\\"2024-04-24T01:46:57,000+0200 R\\\",\\\"TX\\\":\\\"B\\\",\\\"RV\\\":6838.746,\\\"RI\\\":\\\"1-0:1.8.0\\\",\\\"RU\\\":\\\"kWh\\\",\\\"RT\\\":\\\"DC\\\",\\\"EF\\\":\\\"\\\",\\\"ST\\\":\\\"G\\\",\\\"UC\\\":{\\\"UN\\\":\\\"2mR_Comp\\\",\\\"UI\\\":0,\\\"UR\\\":2}},{\\\"RV\\\":4.909,\\\"RI\\\":\\\"1-0:2.8.0\\\",\\\"RU\\\":\\\"kWh\\\",\\\"ST\\\":\\\"G\\\"},{\\\"TM\\\":\\\"2024-04-24T01:46:57,000+0200 R\\\",\\\"TX\\\":\\\"C\\\",\\\"RV\\\":6838.746,\\\"RI\\\":\\\"1-0:1.8.0\\\",\\\"RU\\\":\\\"kWh\\\",\\\"ST\\\":\\\"G\\\"},{\\\"RV\\\":4.909,\\\"RI\\\":\\\"1-0:2.8.0\\\",\\\"RU\\\":\\\"kWh\\\",\\\"ST\\\":\\\"G\\\"}]}|{\\\"SA\\\":\\\"ECDSA-secp256r1-SHA256\\\",\\\"SD\\\":\\\"3045022032DDD4D8DE6B276F08424D30F728AD079803F6E4678929EF84241B7600D3FC610221008025B5C9746EB1CEA70F04AB7E4D0EAEFA7ED6E3178FAD20FC6E51024E5A472D\\\"}\",\"context\":\"Transaction.Begin\",\"format\":\"SignedData\",\"measurand\":\"Energy.Active.Import.Register\"}]},{\"timestamp\":\"2024-04-24T04:38:24Z\",\"sampledValue\":[{\"value\":\"OCMF|{\\\"FV\\\":\\\"1.0\\\",\\\"GI\\\":\\\"LEM DCBM\\\",\\\"GS\\\":\\\"1232581409\\\",\\\"GV\\\":\\\"v1\\\",\\\"PG\\\":\\\"T346\\\",\\\"MV\\\":\\\"LEM\\\",\\\"MS\\\":\\\"1232581409\\\",\\\"MF\\\":\\\"MU-2.3.0.1_SU-0.0.8.0\\\",\\\"IS\\\":false,\\\"IL\\\":\\\"-\\\",\\\"IF\\\":[\\\"RFID_NONE\\\",\\\"OCPP_NONE\\\",\\\"ISO15118_NONE\\\",\\\"PLMN_NONE\\\"],\\\"IT\\\":\\\"NONE\\\",\\\"ID\\\":\\\"ea84f9995415400fa5d6722b2f8a33a3\\\",\\\"CT\\\":\\\"EVSEID\\\",\\\"CI\\\":\\\"A23C2706768\\\",\\\"RD\\\":[{\\\"TM\\\":\\\"2024-04-24T01:46:57,000+0200 R\\\",\\\"TX\\\":\\\"B\\\",\\\"RV\\\":6838.746,\\\"RI\\\":\\\"1-0:1.8.0\\\",\\\"RU\\\":\\\"kWh\\\",\\\"RT\\\":\\\"DC\\\",\\\"EF\\\":\\\"\\\",\\\"ST\\\":\\\"G\\\",\\\"UC\\\":{\\\"UN\\\":\\\"2mR_Comp\\\",\\\"UI\\\":0,\\\"UR\\\":2}},{\\\"RV\\\":4.909,\\\"RI\\\":\\\"1-0:2.8.0\\\",\\\"RU\\\":\\\"kWh\\\",\\\"ST\\\":\\\"G\\\"},{\\\"TM\\\":\\\"2024-04-24T02:03:41,000+0200 R\\\",\\\"TX\\\":\\\"E\\\",\\\"RV\\\":6851.429,\\\"RI\\\":\\\"1-0:1.8.0\\\",\\\"RU\\\":\\\"kWh\\\",\\\"ST\\\":\\\"G\\\"},{\\\"RV\\\":4.909,\\\"RI\\\":\\\"1-0:2.8.0\\\",\\\"RU\\\":\\\"kWh\\\",\\\"ST\\\":\\\"G\\\"}]}|{\\\"SA\\\":\\\"ECDSA-secp256r1-SHA256\\\",\\\"SD\\\":\\\"3045022032DDD4D8DE6B276F08424D30F728AD079803F6E4678929EF84241B7600D3FC61022100DF9CE591C353D4EB03021DC2FC27277E9C9921ECA0662A17BFAFD1F44A223F3E\\\"}\",\"context\":\"Transaction.End\",\"format\":\"SignedData\",\"measurand\":\"Energy.Active.Import.Register\"}]}]}]\n",
    "2024-04-24 00:03:44.476 +0000 INFO WebSocketTransmitter - Received: [4,\"9c5b687a-19a0-4880-926a-549bf7f337eb\",\"InternalError\",\"An internal error occured while stopping a charging session for the transaction.\",{\"exception\":\"Stopping a charging session using the CPO Backend failed due to an internal error.\"}]\n",
    "2024-04-24 00:03:44.495 +0000 WARN PipeEventHandlerImpl - HandleStopTransaction ExecutionException\n",
    "```\n",
    "A23C2706768Vocpp.log"
   ]
  },
  {
   "cell_type": "markdown",
   "metadata": {},
   "source": [
    "### Meter"
   ]
  },
  {
   "cell_type": "markdown",
   "metadata": {},
   "source": [
    "#### Syn_NTP\n",
    "##### Sychronization online via NTP\n",
    "\n",
    "```log\n",
    "Apr/21 22:46:00 UTC --  6 hours interval ntpdate request--> \"ntpdate pool.ntp.org\"\n",
    "Apr/21 22:46:07 UTC --  NTP Time sync finished, output: \"21 Apr 22:46:07 ntpdate[10163]: adjust time server 46.102.157.67 offset -0.337614 sec\\n\"\n",
    "Apr/21 22:46:07 UTC --  Restart the sync timeout timer\n",
    "Apr/21 22:46:07 UTC --  NTP Sync success, current time UTC: QDateTime(2024-04-21 22:46:07.313 UTC Qt::TimeSpec(LocalTime))\n",
    "Apr/21 22:46:07 UTC --  void DC_Meter_Manage::receive_Communicator_From_Implementation(Layer_Communicator&) Recv NTP sync time request\n",
    "Apr/21 22:46:07 UTC --  dc meter Prepare_Set_Time index: 1\n",
    "Apr/21 22:46:07 UTC --  dc meter Prepare_Set_Time index: 2\n",
    "Apr/21 22:46:07 UTC --  DC Meter set time buf: \"{\\\"time\\\":{\\\"tz\\\":\\\"+02:00\\\",\\\"utc\\\":\\\"2024-04-21T22:46:07Z\\\",\\\"dst\\\":{\\\"activated\\\":false,\\\"offset\\\":60,\\\"start\\\":{\\\"order\\\":\\\"last\\\",\\\"day\\\":\\\"sunday\\\",\\\"month\\\":\\\"march\\\",\\\"hour\\\":\\\"T01:00Z\\\"},\\\"end\\\":{\\\"order\\\":\\\"last\\\",\\\"day\\\":\\\"sunday\\\",\\\"month\\\":\\\"october\\\",\\\"hour\\\":\\\"T01:00Z\\\"}}}}\"\n",
    "Apr/21 22:46:07 UTC --  DC Meter set time buf: \"{\\\"time\\\":{\\\"tz\\\":\\\"+02:00\\\",\\\"utc\\\":\\\"2024-04-21T22:46:07Z\\\",\\\"dst\\\":{\\\"activated\\\":false,\\\"offset\\\":60,\\\"start\\\":{\\\"order\\\":\\\"last\\\",\\\"day\\\":\\\"sunday\\\",\\\"month\\\":\\\"march\\\",\\\"hour\\\":\\\"T01:00Z\\\"},\\\"end\\\":{\\\"order\\\":\\\"last\\\",\\\"day\\\":\\\"sunday\\\",\\\"month\\\":\\\"october\\\",\\\"hour\\\":\\\"T01:00Z\\\"}}}}\"\n",
    "Apr/21 22:46:07 UTC --  DC Meter IP \"192.168.10.2\" Set time completed\n",
    "Apr/21 22:46:07 UTC --  DC Meter IP \"192.168.1.2\" Set time completed\n",
    "```\n",
    "A23C2706768VMainProcess.log"
   ]
  },
  {
   "cell_type": "markdown",
   "metadata": {},
   "source": [
    "#### Syn_OCPP\n",
    "##### Sychronization locally via OCPP\n",
    "\n",
    "```log\n",
    "Apr/30 09:38:44 UTC --  Time_always_sync_ntp_enabled, Direct sync NTP\n",
    "Apr/30 09:38:44 UTC --  void TaskImplementation::NtpPartialTimeSyncResultCallback(bool) : Sync DC meter with system time in MID/NTP Not enabled mode\n",
    "Apr/30 09:38:44 UTC --  void DC_Meter_Manage::receive_Communicator_From_Implementation(Layer_Communicator&) Recv NTP sync time request\n",
    "Apr/30 09:38:44 UTC --  dc meter Prepare_Set_Time index: 1\n",
    "Apr/30 09:38:44 UTC --  dc meter Prepare_Set_Time index: 2\n",
    "Apr/30 09:38:44 UTC --  DC Meter set time buf: \"{\\\"time\\\":{\\\"tz\\\":\\\"+02:00\\\",\\\"utc\\\":\\\"2024-04-30T09:38:44Z\\\",\\\"dst\\\":{\\\"activated\\\":false,\\\"offset\\\":60,\\\"start\\\":{\\\"order\\\":\\\"last\\\",\\\"day\\\":\\\"sunday\\\",\\\"month\\\":\\\"march\\\",\\\"hour\\\":\\\"T01:00Z\\\"},\\\"end\\\":{\\\"order\\\":\\\"last\\\",\\\"day\\\":\\\"sunday\\\",\\\"month\\\":\\\"october\\\",\\\"hour\\\":\\\"T01:00Z\\\"}}}}\"\n",
    "Apr/30 09:38:44 UTC --  DC Meter set time buf: \"{\\\"time\\\":{\\\"tz\\\":\\\"+02:00\\\",\\\"utc\\\":\\\"2024-04-30T09:38:44Z\\\",\\\"dst\\\":{\\\"activated\\\":false,\\\"offset\\\":60,\\\"start\\\":{\\\"order\\\":\\\"last\\\",\\\"day\\\":\\\"sunday\\\",\\\"month\\\":\\\"march\\\",\\\"hour\\\":\\\"T01:00Z\\\"},\\\"end\\\":{\\\"order\\\":\\\"last\\\",\\\"day\\\":\\\"sunday\\\",\\\"month\\\":\\\"october\\\",\\\"hour\\\":\\\"T01:00Z\\\"}}}}\"\n",
    "Apr/30 09:38:45 UTC --  DC Meter IP \"192.168.1.2\" Set time completed\n",
    "Apr/30 09:38:45 UTC --  DC Meter IP \"192.168.10.2\" Set time completed\n",
    "```\n",
    "A23C2706768VMainProcess.log"
   ]
  },
  {
   "cell_type": "markdown",
   "metadata": {},
   "source": [
    "### Firmware"
   ]
  },
  {
   "cell_type": "markdown",
   "metadata": {},
   "source": [
    "#### Upgrade"
   ]
  },
  {
   "cell_type": "markdown",
   "metadata": {},
   "source": [
    "**************************************************"
   ]
  },
  {
   "cell_type": "markdown",
   "metadata": {},
   "source": [
    "## Logs"
   ]
  },
  {
   "cell_type": "markdown",
   "metadata": {},
   "source": [
    "### Libraries"
   ]
  },
  {
   "cell_type": "code",
   "execution_count": 1,
   "metadata": {},
   "outputs": [],
   "source": [
    "import os\n",
    "import os.path\n",
    "import re\n",
    "import itertools\n",
    "import pdfkit\n",
    "import zipfile\n",
    "\n",
    "import pandas as pd\n",
    "import numpy as np\n",
    "import pymysql.cursors\n",
    "import seaborn as sb\n",
    "import matplotlib.pyplot as plt\n",
    "\n",
    "from datetime import datetime, timezone, timedelta"
   ]
  },
  {
   "cell_type": "markdown",
   "metadata": {},
   "source": [
    "### Analysis"
   ]
  },
  {
   "cell_type": "markdown",
   "metadata": {},
   "source": [
    "#### Collection"
   ]
  },
  {
   "cell_type": "code",
   "execution_count": 4,
   "metadata": {},
   "outputs": [],
   "source": [
    "serial_num = \"A23C2706768\"\n",
    "\n",
    "# 'c:\\\\Users\\\\ShaomengMao\\\\Projects\\\\ticket-reporter\\\\data\\\\log\\\\A23C2706768'\n",
    "log_path = os.path.abspath(os.path.join(os.getcwd(), 'data\\\\log', serial_num))"
   ]
  },
  {
   "cell_type": "code",
   "execution_count": 5,
   "metadata": {},
   "outputs": [
    {
     "name": "stdout",
     "output_type": "stream",
     "text": [
      "2168Vccu\n",
      "2168Vfault\n",
      "2168Vocpp\n",
      "2168Vqt\n",
      "2168Vupdate\n"
     ]
    }
   ],
   "source": [
    "for folder in os.listdir(log_path):\n",
    "    print(folder)"
   ]
  },
  {
   "cell_type": "code",
   "execution_count": null,
   "metadata": {},
   "outputs": [
    {
     "name": "stdout",
     "output_type": "stream",
     "text": [
      "第一种时间戳解析结果： 2024-04-28 22:03:37+00:00\n",
      "第二种时间戳解析结果： 2024-01-10 06:21:06.873000+00:00\n",
      "第三种时间戳解析结果： 2024-04-27 12:41:12.903000+00:00\n",
      "date_obj1 晚于 date_obj2\n",
      "date_obj3 早于 date_obj1\n"
     ]
    }
   ],
   "source": [
    "# 将不同的时间戳转化为标准格式\n",
    "\n",
    "def parse_timestamp(timestamp):\n",
    "    YEAR = 2024\n",
    "    try:\n",
    "        # 尝试解析OCPP时间戳形式，如：2024-04-27 12:41:12.903 +0000\n",
    "        date_obj = datetime.strptime(timestamp, \"%Y-%m-%d %H:%M:%S.%f %z\")\n",
    "    except ValueError:\n",
    "        try:\n",
    "            # 尝试解析第一种时间戳形式，如：Apr/28 22:03:37 UTC\n",
    "            date_obj = datetime.strptime(timestamp, \"%b/%d %H:%M:%S UTC\")\n",
    "            date_obj = date_obj.replace(tzinfo=timezone.utc)\n",
    "        except ValueError:\n",
    "            try:\n",
    "                # 尝试解析第二种时间戳形式，如：January/10 06:21:06.873 UTC\n",
    "                date_obj = datetime.strptime(timestamp, \"%B/%d %H:%M:%S.%f UTC\")\n",
    "                date_obj = date_obj.replace(tzinfo=timezone.utc)\n",
    "            except ValueError:\n",
    "                # 如果都无法解析，则抛出异常\n",
    "                raise ValueError(\"无法解析的时间戳格式\")\n",
    "    \n",
    "    date_obj = date_obj.replace(year=YEAR)\n",
    "\n",
    "    # 返回解析后的日期时间对象\n",
    "    return date_obj\n",
    "\n",
    "# 测试解析函数\n",
    "timestamp1 = \"Apr/28 22:03:37 UTC\"\n",
    "timestamp2 = \"January/10 06:21:06.873 UTC\"\n",
    "timestamp3 = \"2024-04-27 12:41:12.903 +0000\"\n",
    "\n",
    "date_obj1 = parse_timestamp(timestamp1)\n",
    "date_obj2 = parse_timestamp(timestamp2)\n",
    "date_obj3 = parse_timestamp(timestamp3)\n",
    "\n",
    "print(\"第一种时间戳解析结果：\", date_obj1)\n",
    "print(\"第二种时间戳解析结果：\", date_obj2)\n",
    "print(\"第三种时间戳解析结果：\", date_obj3)\n",
    "\n",
    "if date_obj1 >= date_obj2:\n",
    "    print(\"date_obj1 晚于 date_obj2\")\n",
    "\n",
    "if date_obj3 <= date_obj1:\n",
    "    print(\"date_obj3 早于 date_obj1\")"
   ]
  },
  {
   "cell_type": "markdown",
   "metadata": {},
   "source": [
    "##### Collect MainProcess\n",
    "```log\n",
    "Apr/28 22:03:36 UTC --  this ocppin is about =  \"StatusNotificationResponse\"\n",
    "Apr/28 22:03:37 UTC --  Front select connector index: 2\n",
    "Apr/28 22:03:37 UTC --  StateSwicthed:from \"State_Payment_Ready\" to: \"State_Energy_Transfer\"\n",
    "Apr/28 22:03:37 UTC --  \"State_Payment_Ready\" parent back to start state \"State_Payment_Ready\"\n",
    "Apr/28 22:03:37 UTC --  \"State_Energy_Transfer\" return start \"State_Energy_Transfer_Preparing_Wait_Stop\"\n",
    "Apr/28 22:03:37 UTC --  Assign id tag: \"04922FCA1D6680\" for connector: 2\n",
    "Apr/28 22:03:37 UTC --  Connector: 2 enter energy transfer, trigger other connectors' not chosen\n",
    "Apr/28 22:03:37 UTC --  Connector id: 1 Connector not chosen, trigger flag true\n",
    "```"
   ]
  },
  {
   "cell_type": "code",
   "execution_count": 6,
   "metadata": {},
   "outputs": [
    {
     "name": "stdout",
     "output_type": "stream",
     "text": [
      "c:\\Users\\ShaomengMao\\Projects\\ticket-reporter\\data\\log\\A23C2706768\\2168Vqt\\A23C2706768VMainProcess.log\n",
      "c:\\Users\\ShaomengMao\\Projects\\ticket-reporter\\data\\log\\A23C2706768\\2168Vqt\\A23C2706768VMainProcess_0.log\n"
     ]
    }
   ],
   "source": [
    "# Collect MaiProcess\n",
    "\n",
    "folder = '2168Vqt'\n",
    "\n",
    "for file in os.listdir(os.path.join(log_path, folder)):\n",
    "    print(os.path.join(log_path, folder, file))"
   ]
  },
  {
   "cell_type": "code",
   "execution_count": 9,
   "metadata": {},
   "outputs": [
    {
     "name": "stdout",
     "output_type": "stream",
     "text": [
      "Apr/28 22:03:37 UTC\n",
      "InterLayer_Status_Notification: Communicator as: CCU_Index:1CommunicationType:0SourceType:7\n"
     ]
    }
   ],
   "source": [
    "# split date and message\n",
    "line = 'Apr/28 22:03:37 UTC --  InterLayer_Status_Notification: Communicator as: CCU_Index:1CommunicationType:0SourceType:7'\n",
    "\n",
    "#match = re.search(r'^(\\w{3}/\\d{2} \\d{2}:\\d{2}:\\d{2} UTC) --  (.*)$', line)\n",
    "parts = re.split(r' --  ', line)\n",
    "time_stemp = parts[0]\n",
    "message = parts[1]\n",
    "\n",
    "print(time_stemp)\n",
    "print(message)"
   ]
  },
  {
   "cell_type": "code",
   "execution_count": null,
   "metadata": {},
   "outputs": [],
   "source": [
    "log_path = 'c:\\\\Users\\\\ShaomengMao\\\\Projects\\\\ticket-reporter\\\\data\\\\log\\\\A23C2706768\\\\A23C2706768VMainProcess_0.log'\n",
    "\n",
    "dates = []\n",
    "message = []\n",
    "\n",
    "with open(log_path, 'r') as log:\n",
    "    lines = log.readlines()\n",
    "\n",
    "for line in lines:\n",
    "    match = re.search(r'^(\\w{3}/\\d{2} \\d{2}:\\d{2}:\\d{2} UTC) --  (.*)$', line)\n",
    "    if match:\n",
    "        date = match.group(1)\n",
    "        message = match.group(2)\n",
    "        dates.append(date)\n",
    "        message.append(message)"
   ]
  },
  {
   "cell_type": "markdown",
   "metadata": {},
   "source": [
    "##### Collect OCPP\n",
    "```log\n",
    "2024-04-27 12:41:12.903 +0000 INFO PipeSession - Pipe Ready\n",
    "2024-04-27 12:41:46.898 +0000 INFO PipeSession - [From charging station]: 1=StatusNotification={    \"connectorId\": 2,    \"errorCode\": \"EVCommunicationError\",    \"status\": \"Finishing\",    \"vendorErrorCode\": \"\",    \"vendorId\": \"Sungrow\"}\n",
    "2024-04-27 12:41:46.913 +0000 INFO ChargePoint - The chargePoint (com.Sungrow.ocpp.ChargePoint@16da883) works well.\n",
    "2024-04-27 12:41:46.917 +0000 INFO RequestQueue - SendRequest Queue size: 1, Store time: 1.633 ms, UUID: 869d6a39-ac0a-4352-836f-a33da25f94a8\n",
    "2024-04-27 12:41:46.941 +0000 INFO WebSocketTransmitter - Sending: [2,\"869d6a39-ac0a-4352-836f-a33da25f94a8\",\"StatusNotification\",{\"connectorId\":2,\"errorCode\":\"EVCommunicationError\",\"status\":\"Finishing\",\"vendorId\":\"Sungrow\",\"vendorErrorCode\":\"\"}]\n",
    "2024-04-27 12:41:47.227 +0000 INFO WebSocketTransmitter - Received: [3,\"869d6a39-ac0a-4352-836f-a33da25f94a8\",{}]\n",
    "```"
   ]
  },
  {
   "cell_type": "code",
   "execution_count": null,
   "metadata": {},
   "outputs": [],
   "source": []
  },
  {
   "cell_type": "code",
   "execution_count": null,
   "metadata": {},
   "outputs": [],
   "source": []
  },
  {
   "cell_type": "markdown",
   "metadata": {},
   "source": [
    "##### Collect Fault\n",
    "```log\n",
    "[January/10 06:20:31.486 UTC]2024/January/10 06:20:31.485\n",
    "[January/10 06:20:31.486 UTC]\n",
    "[January/10 06:20:31.486 UTC]\n",
    "\n",
    "[January/10 06:21:06.873 UTC]CCU1->Err_Connector1_Cp_StateE_Alarm\n",
    "[January/10 06:21:06.873 UTC]CCU1->Err_Connector1_TCU_Config_Fault\n",
    "[January/10 06:21:06.873 UTC]\n",
    "\n",
    "[January/10 06:23:24.362 UTC]CCU1->Err_Connector1_Cp_StateE_Alarm\n",
    "[January/10 06:23:24.362 UTC]\n",
    "```"
   ]
  },
  {
   "cell_type": "code",
   "execution_count": null,
   "metadata": {},
   "outputs": [],
   "source": []
  },
  {
   "cell_type": "markdown",
   "metadata": {},
   "source": [
    "##### Collect CCU\n",
    "```log\n",
    "[April/28 08:48:46.384 UTC][D00 23:20:20.544] Pcu state changes event:1, not self:1, not self id:0\n",
    "[April/28 08:48:46.384 UTC][D00 23:20:20.544] Secondary CCU asks for power modules stopping\n",
    "[April/28 08:48:46.384 UTC][D00 23:20:20.544] Connector_Power_Info_Changed! V:395, C:0\n",
    "[April/28 08:48:46.384 UTC][D00 23:20:20.623] SessionStopTrigger -- Init\n",
    "[April/28 08:48:46.384 UTC][D00 23:20:20.624] State update context to P_0, V_0, C_0\n",
    "[April/28 08:48:46.384 UTC][D00 23:20:20.624] DC_CONTACTOR:4, set:0\n",
    "[April/28 08:48:46.384 UTC][D00 23:20:20.624] DC_CONTACTOR:3, set:0\n",
    "[April/28 08:48:46.384 UTC][D00 23:20:20.624] Init_ev_buffer_array\n",
    "[April/28 08:48:46.384 UTC][D00 23:\n",
    "[April/28 08:48:46.385 UTC]20:20.624] SLAC INDICATOR PARALLEL -- ISR:0 init\n",
    "```"
   ]
  },
  {
   "cell_type": "code",
   "execution_count": null,
   "metadata": {},
   "outputs": [],
   "source": []
  },
  {
   "cell_type": "markdown",
   "metadata": {},
   "source": [
    "##### Collect Update\n",
    "```log\n",
    "[April/12 09:51:36.489 UTC]2024/April/12 09:51:36.489\n",
    "[April/12 09:51:36.489 UTC]\n",
    "[April/12 09:51:36.489 UTC]\n",
    "\n",
    "[April/12 09:56:32.991 UTC]Loader --> File_Loader receive Type_Update_Firmware_Request from OCPP\n",
    "[April/12 09:56:32.992 UTC]Loader --> FirmwareUpdate_Data Retry:1URI:https://eco-eu-prod-file.oss-eu-central-1.aliyuncs.com/charger/IDC180E-1000/2024041114172100KeYa/version.jsonRetry interval:1\n",
    "[April/12 09:56:32.994 UTC]Loader --> Process... Start Http download version.json\n",
    "[April/12 09:56:33.006 UTC]Loader --> Cleaned /home/root/Sungrow_TCU/Download/\n",
    "[April/12 09:56:33.006 UTC]Loader --> clean all\n",
    "[April/12 09:56:33.007 UTC]Loader --> startNewDownload url: https://eco-eu-prod-file.oss-eu-central-1.aliyuncs.com/charger/IDC180E-1000/2024041114172100KeYa/version.json\n",
    "[April/12 09:56:33.008 UTC]Loader --> Ready write to file/home/root/Sungrow_TCU/Download/version.json\n",
    "[April/12 09:56:33.012 UTC]Loader --> Update Phase:5\n",
    "```"
   ]
  },
  {
   "cell_type": "code",
   "execution_count": null,
   "metadata": {},
   "outputs": [],
   "source": []
  },
  {
   "cell_type": "code",
   "execution_count": null,
   "metadata": {},
   "outputs": [],
   "source": []
  },
  {
   "cell_type": "markdown",
   "metadata": {},
   "source": [
    "************************************************************************************************************"
   ]
  },
  {
   "cell_type": "markdown",
   "metadata": {},
   "source": [
    "## Tools"
   ]
  },
  {
   "cell_type": "code",
   "execution_count": null,
   "metadata": {},
   "outputs": [],
   "source": [
    "# 下载目录\n",
    "downloads_path = 'C:\\\\Users\\\\ShaomengMao\\\\Downloads'"
   ]
  },
  {
   "cell_type": "markdown",
   "metadata": {},
   "source": [
    "### Cleaning"
   ]
  },
  {
   "cell_type": "markdown",
   "metadata": {},
   "source": [
    "##### Get newst version of target log related zip file, clean other copies and rename the zip file (✔)"
   ]
  },
  {
   "cell_type": "code",
   "execution_count": 55,
   "metadata": {},
   "outputs": [],
   "source": [
    "import os\n",
    "\n",
    "from datetime import datetime\n",
    "\n",
    "\n",
    "def get_newst_zip(repository, target):\n",
    "    # 初始化字典\n",
    "    zip_times = {}\n",
    "    # 获取目标目录下的所有相关的zip文件\n",
    "    zip_files = [file for file in os.listdir(repository) if file.endswith('.zip') and target in file]\n",
    "    # 找到最新修改时间和对应的文件名\n",
    "    for zip_file in zip_files:\n",
    "        # 获取文件的完整路径\n",
    "        zip_file_path = os.path.join(repository, zip_file)\n",
    "        # 获取文件的修改时间\n",
    "        zip_file_modi_time = os.path.getmtime(zip_file_path)\n",
    "        # 将文件名和修改时间添加到字典中\n",
    "        zip_times[zip_file] = zip_file_modi_time\n",
    "    # 找到修改时间最新的文件名\n",
    "    latest_zip = max(zip_times, key=zip_times.get)\n",
    "    print(f\"Newst {target} zip modified at {datetime.fromtimestamp(zip_times[latest_zip], tz=timezone.utc)} UTC\")\n",
    "    # 需要删除的文件列表\n",
    "    to_remove = [zip_name for zip_name in zip_times.keys() if zip_name != latest_zip]\n",
    "    # 删除列表中的文件\n",
    "    for zip_rem in to_remove:\n",
    "        try:\n",
    "            os.remove(os.path.join(repository, zip_rem))\n",
    "            print(zip_rem, 'deleted.')\n",
    "        except FileNotFoundError:\n",
    "            print(zip_rem, 'does not exists.')\n",
    "    # 重命名最新文件为'2168Vqt.zip'\n",
    "    old_path = os.path.join(repository, latest_zip)\n",
    "    new_path = os.path.join(repository, target+'.zip')\n",
    "    os.rename(old_path, new_path)\n",
    "    print(f\"{latest_zip} renamed to {target}.zip\")\n"
   ]
  },
  {
   "cell_type": "code",
   "execution_count": 56,
   "metadata": {},
   "outputs": [
    {
     "name": "stdout",
     "output_type": "stream",
     "text": [
      "Newst 2168Vqt zip modified at 2024-05-02 00:11:03.312890+00:00 UTC\n",
      "2168Vqt.zip renamed to 2168Vqt.zip\n"
     ]
    }
   ],
   "source": [
    "# 下载目录\n",
    "downloads_path = 'C:\\\\Users\\\\ShaomengMao\\\\Downloads'\n",
    "# 目标文件\n",
    "target_logs = ()\n",
    "target_log = '2168Vqt'\n",
    "\n",
    "get_newst_zip(downloads_path, target_log)"
   ]
  },
  {
   "cell_type": "markdown",
   "metadata": {},
   "source": [
    "### Filtering"
   ]
  },
  {
   "cell_type": "markdown",
   "metadata": {},
   "source": [
    "##### Filter messages in logs"
   ]
  },
  {
   "cell_type": "code",
   "execution_count": 57,
   "metadata": {},
   "outputs": [],
   "source": [
    "import zipfile\n",
    "import pandas as pd\n",
    "\n",
    "\n",
    "# 序列号\n",
    "SN = \"A23C2706768\"\n",
    "# 定义要读取的 zip 文件路径\n",
    "zip_file_path = 'C:\\\\Users\\\\ShaomengMao\\\\Downloads\\\\2168Vqt.zip'\n",
    "# 定义要读取的 log 文件名\n",
    "log_file_names = [f\"{SN}VMainProcess_0.log\", f\"{SN}VMainProcess.log\"]\n",
    "\n",
    "keywords = [\"OCPP_Connection_Fail\", \"OCPP_Connection_Restore\", \"Bootup info type id\"]\n",
    "\n",
    "# 定义用于保存筛选结果的列表\n",
    "filtered_lines = []\n",
    "\n",
    "# 打开 zip 文件\n",
    "with zipfile.ZipFile(zip_file_path, 'r') as zip_ref:\n",
    "    # 检查压缩包中的文件列表\n",
    "    files = zip_ref.namelist()\n",
    "    if files:\n",
    "        # 排序以得到 ['A23C2706768VMainProcess_0.log', 'A23C2706768VMainProcess.log']\n",
    "        files.sort(reverse=True)\n",
    "\n",
    "        for file in files:\n",
    "            with zip_ref.open(file) as f:\n",
    "                for line_bytes in f:\n",
    "                    # 将字节流转换为字符串\n",
    "                    line = line_bytes.decode()\n",
    "                    # 根据特定关键字筛选行\n",
    "                    if any(keyword in line for keyword in keywords):\n",
    "                        filtered_lines.append(line.strip())\n",
    "    else:\n",
    "        print(\"Empty zip package.\")\n",
    "\n",
    "# 将筛选结果保存为 DataFrame\n",
    "df = pd.DataFrame(filtered_lines, columns=[\"Timestemp -- Message\"])\n",
    "\n",
    "# 将 DataFrame 保存为 csv 文件\n",
    "df.to_csv(\"ocpp_connection.csv\", index=False)"
   ]
  },
  {
   "cell_type": "code",
   "execution_count": null,
   "metadata": {},
   "outputs": [],
   "source": []
  },
  {
   "cell_type": "code",
   "execution_count": null,
   "metadata": {},
   "outputs": [],
   "source": []
  },
  {
   "cell_type": "code",
   "execution_count": null,
   "metadata": {},
   "outputs": [],
   "source": []
  },
  {
   "cell_type": "code",
   "execution_count": null,
   "metadata": {},
   "outputs": [],
   "source": []
  },
  {
   "cell_type": "code",
   "execution_count": null,
   "metadata": {},
   "outputs": [],
   "source": []
  },
  {
   "cell_type": "code",
   "execution_count": null,
   "metadata": {},
   "outputs": [],
   "source": []
  },
  {
   "cell_type": "code",
   "execution_count": null,
   "metadata": {},
   "outputs": [],
   "source": []
  },
  {
   "cell_type": "code",
   "execution_count": null,
   "metadata": {},
   "outputs": [],
   "source": [
    "import time\n",
    "\n",
    "def task():\n",
    "    # 在这里执行特定任务的代码\n",
    "    print(\"执行特定任务...\")\n",
    "\n",
    "# 主循环，持续运行直到程序被手动关闭\n",
    "while True:\n",
    "    # 执行特定任务\n",
    "    task()\n",
    "    \n",
    "    # 休眠1小时\n",
    "    time.sleep(3600)  # 3600秒等于1小时"
   ]
  }
 ],
 "metadata": {
  "kernelspec": {
   "display_name": "Python 3",
   "language": "python",
   "name": "python3"
  },
  "language_info": {
   "codemirror_mode": {
    "name": "ipython",
    "version": 3
   },
   "file_extension": ".py",
   "mimetype": "text/x-python",
   "name": "python",
   "nbconvert_exporter": "python",
   "pygments_lexer": "ipython3",
   "version": "3.10.0"
  }
 },
 "nbformat": 4,
 "nbformat_minor": 2
}
