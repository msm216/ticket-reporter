{
 "cells": [
  {
   "cell_type": "markdown",
   "metadata": {},
   "source": [
    "## Verify created test data in database"
   ]
  },
  {
   "cell_type": "code",
   "execution_count": 1,
   "metadata": {},
   "outputs": [],
   "source": [
    "import random\n",
    "import string\n",
    "\n",
    "from app import create_app, db\n",
    "from app.models import Task, Ticket, Project\n",
    "\n",
    "####################################################\n",
    "\n",
    "def generate_random_string(length):\n",
    "    # string.punctuation 特殊字符\n",
    "    characters = string.ascii_letters + string.digits\n",
    "    random_string = ''.join(\n",
    "        random.choice(characters) for i in range(length))\n",
    "    \n",
    "    return random_string\n",
    "\n",
    "# 通过 __init__.py 中的 create_app() 函数创建app\n",
    "app = create_app()\n",
    "\n",
    "with app.app_context():\n",
    "\n",
    "    # 读取表格内容为 list，其中的元素都为各自对应模型的实例\n",
    "    tasks = Task.query.all()\n",
    "    tickets = Ticket.query.all()\n",
    "    projects = Project.query.all()"
   ]
  },
  {
   "cell_type": "code",
   "execution_count": 6,
   "metadata": {},
   "outputs": [
    {
     "data": {
      "text/plain": [
       "{'_sa_instance_state': <sqlalchemy.orm.state.InstanceState at 0x267d5a7d480>,\n",
       " 'title': 'Ticket-PNU4kz99on',\n",
       " 'report_on': datetime.datetime(2024, 5, 13, 10, 56, 25, 474047),\n",
       " 'description': 'This happend: dEcYhmoiecuyYG0hwhXUoykpSLRPbzleLEpW22svCO9gNi5NMf',\n",
       " 'id': 'Ticket-20240513-01',\n",
       " 'project_id': None,\n",
       " 'update_on': datetime.datetime(2024, 5, 11, 10, 56, 25, 515949)}"
      ]
     },
     "execution_count": 6,
     "metadata": {},
     "output_type": "execute_result"
    }
   ],
   "source": [
    "rt = random.choice(tickets)\n",
    "\n",
    "vars(rt)"
   ]
  },
  {
   "cell_type": "code",
   "execution_count": 12,
   "metadata": {},
   "outputs": [
    {
     "name": "stdout",
     "output_type": "stream",
     "text": [
      "Ticket-20240501-01|Ticket-52N1jIhkcY|2024-05-01 10:56:25.466531|This happend: WepdFYbqdzgAgNDbinhLw4NOA5Z1YcLW01Q4yVUrdtO5nS5MK2|Project-20240529-01|2024-05-26 10:56:25.529514\n",
      "Ticket-20240505-01|Ticket-vp087vY5fF|2024-05-05 10:56:25.470042|This happend: 6CjyR4Jv1TZYav8Jjm4BT8hmVnpLwllkHPH86bfXJdFu6YZyEF|None|2024-05-12 10:56:25.526459\n",
      "Ticket-20240504-01|Ticket-lyRfTepbu2|2024-05-04 10:56:25.473048|This happend: epTWlrvRZ8tPS5WIJyNGRYcaLNyCnUQ8WiYccjF2nLX76Mq0si|None|2024-05-31 10:56:25.509951\n",
      "Ticket-20240513-01|Ticket-PNU4kz99on|2024-05-13 10:56:25.474047|This happend: dEcYhmoiecuyYG0hwhXUoykpSLRPbzleLEpW22svCO9gNi5NMf|None|2024-05-11 10:56:25.515949\n",
      "Ticket-20240416-01|Ticket-Ivjvu8laRC|2024-04-16 10:56:25.475046|This happend: B3aYbaFqxAkoFA8W8UrY0taTnjiQ20ZIkcQeHm7LBht0TXKJ0z|None|2024-05-25 10:56:25.527459\n",
      "Ticket-20240404-01|Ticket-ZVdPdZr0k4|2024-04-04 10:56:25.476047|This happend: pvWcPlp2Hj4lNZimksBRofXWhhAsSNz0B4NyEedXavqgQovOYX|Project-20240529-01|2024-05-25 10:56:25.524460\n",
      "Ticket-20240416-02|Ticket-sCalj04sFT|2024-04-16 10:56:25.477046|This happend: O37RSEVJ4XkkblbdBiLLKnnEMYbUZhYlVD8nBWlQfo5FAD6uIa|Project-20240421-01|2024-05-31 10:56:25.506915\n",
      "Ticket-20240407-01|Ticket-1m2QDRztGL|2024-04-07 10:56:25.478687|This happend: RuNAAVJOLMFydMOFBF3mi0Y7C6lWaoUuIL9X75ue4AM97vLxvp|None|2024-05-24 10:56:25.489594\n",
      "Ticket-20240529-01|Ticket-U1unLcWnBM|2024-05-29 10:56:25.479555|This happend: xBhcEqIyaXSUhy3tL9EAxzyIUIrOLRiACUc5cd1z1ZpkgEYqgQ|Project-20240529-01|2024-05-23 10:56:25.528460\n",
      "Ticket-20240508-01|Ticket-qn7vnwNtqm|2024-05-08 10:56:25.480555|This happend: 23R1W2aUj8ktz1z9Zlqfe68PEwSbqJqVzjJufPmjQiDTSpYMIv|None|2024-05-25 10:56:25.511950\n"
     ]
    }
   ],
   "source": [
    "for tick in tickets:\n",
    "\n",
    "    print(\n",
    "        f\"{tick.id}|{tick.title}|{tick.report_on}|{tick.description}|{tick.project_id}|{tick.update_on}\"\n",
    "    )"
   ]
  },
  {
   "cell_type": "code",
   "execution_count": 13,
   "metadata": {},
   "outputs": [
    {
     "name": "stdout",
     "output_type": "stream",
     "text": [
      "Project-20240529-01|Project-RKq5u9SfyB|2024-05-29 10:56:25.448805|1|46.71867079563187|20.541065835100728\n",
      "Project-20240512-01|Project-1wte8MqHw5|2024-05-12 10:56:25.457811|5|39.291706486936526|18.49021380118211\n",
      "Project-20240421-01|Project-nzXtguC4Xk|2024-04-21 10:56:25.461326|7|38.46192141274804|26.151686158410094\n"
     ]
    }
   ],
   "source": [
    "for proj in projects:\n",
    "\n",
    "    print(\n",
    "        f\"{proj.id}|{proj.title}|{proj.create_on}|{proj.charger_amount}|{proj.latitude}|{proj.longitude}\"\n",
    "    )"
   ]
  },
  {
   "cell_type": "code",
   "execution_count": null,
   "metadata": {},
   "outputs": [],
   "source": []
  },
  {
   "cell_type": "code",
   "execution_count": null,
   "metadata": {},
   "outputs": [],
   "source": [
    "import random\n",
    "import json\n",
    "import os\n",
    "import matplotlib.pyplot as plt\n",
    "\n",
    "from shapely.geometry import shape, Point\n",
    "\n",
    "# \n",
    "def load_europe_polygon(geojson_path):\n",
    "    with open(geojson_path, 'r') as file:\n",
    "        geojson = json.load(file)\n",
    "    return shape(geojson['features'][0]['geometry'])\n",
    "\n",
    "def generate_random_point_in_polygon(polygon):\n",
    "    min_x, min_y, max_x, max_y = polygon.bounds\n",
    "    while True:\n",
    "        random_point = Point(random.uniform(min_x, max_x), random.uniform(min_y, max_y))\n",
    "        if polygon.contains(random_point):\n",
    "            return random_point\n",
    "        \n",
    "europe_json = os.path.join(os.getcwd(), 'data', 'json', 'europe.json')\n",
    "# 加载欧洲的多边形边界\n",
    "europe_polygon = load_europe_polygon(europe_json)"
   ]
  }
 ],
 "metadata": {
  "kernelspec": {
   "display_name": "Python 3",
   "language": "python",
   "name": "python3"
  },
  "language_info": {
   "codemirror_mode": {
    "name": "ipython",
    "version": 3
   },
   "file_extension": ".py",
   "mimetype": "text/x-python",
   "name": "python",
   "nbconvert_exporter": "python",
   "pygments_lexer": "ipython3",
   "version": "3.10.11"
  }
 },
 "nbformat": 4,
 "nbformat_minor": 2
}
