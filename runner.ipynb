{
 "cells": [
  {
   "cell_type": "markdown",
   "metadata": {},
   "source": [
    "## Project Structure"
   ]
  },
  {
   "cell_type": "markdown",
   "metadata": {},
   "source": [
    "```arduino\n",
    "ticket-reporter/\n",
    "│\n",
    "├── app/\n",
    "│   ├── __init__.py\n",
    "│   ├── models.py\n",
    "│   ├── views.py\n",
    "│   ├── forms.py\n",
    "│   ├── data/\n",
    "│   │   └── sqlite/\n",
    "│   │       └── app.db\n",
    "│   ├── templates/\n",
    "│   │   ├── base.html\n",
    "│   │   ├── home.html\n",
    "│   │   ├── task.html\n",
    "│   │   ├── ticket.html\n",
    "│   │   ├── project.html\n",
    "│   │   └── about.html\n",
    "│   └── static/\n",
    "│       ├── css/\n",
    "│       │   └── styles.css\n",
    "│       ├── js/\n",
    "│       │   └── scripts.js\n",
    "│       └── favicon.ico\n",
    "├── db_init.py\n",
    "├── run.py\n",
    "├── config.py\n",
    "├── runner.ipynb\n",
    "└── requirements.txt\n",
    "```"
   ]
  },
  {
   "cell_type": "markdown",
   "metadata": {},
   "source": [
    "## Verify Test Data"
   ]
  },
  {
   "cell_type": "code",
   "execution_count": null,
   "metadata": {},
   "outputs": [],
   "source": [
    "import sqlite3\n",
    "import os\n",
    "import pandas as pd\n",
    "from app import create_app, db\n",
    "from app.models import Task, Ticket, Project\n",
    "\n",
    "# 创建 Flask 应用实例\n",
    "app = create_app()\n",
    "\n",
    "# 提取数据库路径\n",
    "db_uri = app.config['SQLALCHEMY_DATABASE_URI']\n",
    "if db_uri.startswith('sqlite:///'):\n",
    "    db_path = db_uri[len('sqlite:///'):]\n",
    "elif db_uri.startswith('sqlite://'):\n",
    "    db_path = db_uri[len('sqlite://'):]\n",
    "else:\n",
    "    raise ValueError(\"Unsupported database URI scheme\")\n",
    "\n",
    "# 在 Jupyter Notebook 中手动指定路径\n",
    "db_path = os.path.join(os.getcwd(), 'app', 'data', 'sqlite', 'report.db')\n",
    "\n",
    "# 使用 SQLAlchemy 的连接引擎\n",
    "from sqlalchemy import create_engine\n",
    "engine = create_engine(f'sqlite:///{db_path}')\n",
    "\n",
    "# 使用 pandas 读取 SQL 数据\n",
    "with app.app_context():\n",
    "    tasks_df = pd.read_sql(Task.query.statement, db.session.bind)\n",
    "    tickets_df = pd.read_sql(Ticket.query.statement, db.session.bind)\n",
    "    projects_df = pd.read_sql(Project.query.statement, db.session.bind)\n",
    "\n",
    "# 显示 DataFrame 内容\n",
    "print(tasks_df.head())\n",
    "print(tickets_df.head())\n",
    "print(projects_df.head())"
   ]
  },
  {
   "cell_type": "code",
   "execution_count": null,
   "metadata": {},
   "outputs": [],
   "source": [
    "#random_ticket = random.choice(tickets)\n",
    "#vars(random_ticket)\n",
    "\n",
    "for tick in tickets_list:\n",
    "    print(\n",
    "        f\"{tick.id}|{tick.title}|{tick.report_on}|{tick.description}|{tick.project_id}|{tick.update_on}\"\n",
    "    )"
   ]
  },
  {
   "cell_type": "code",
   "execution_count": null,
   "metadata": {},
   "outputs": [],
   "source": []
  },
  {
   "cell_type": "code",
   "execution_count": null,
   "metadata": {},
   "outputs": [],
   "source": []
  },
  {
   "cell_type": "code",
   "execution_count": null,
   "metadata": {},
   "outputs": [],
   "source": []
  },
  {
   "cell_type": "code",
   "execution_count": null,
   "metadata": {},
   "outputs": [],
   "source": []
  },
  {
   "cell_type": "code",
   "execution_count": null,
   "metadata": {},
   "outputs": [],
   "source": []
  },
  {
   "cell_type": "code",
   "execution_count": null,
   "metadata": {},
   "outputs": [],
   "source": [
    "import subprocess\n",
    "from datetime import datetime\n",
    "\n",
    "def get_last_commit_time():\n",
    "    try:\n",
    "        result = subprocess.run(['git', 'log', '-1', '--format=%ct'], stdout=subprocess.PIPE, stderr=subprocess.PIPE)\n",
    "        if result.returncode == 0:\n",
    "            timestamp = int(result.stdout.decode('utf-8').strip())\n",
    "            last_commit_time = datetime.fromtimestamp(timestamp).strftime('%Y-%m-%d %H:%M:%S')\n",
    "            return last_commit_time\n",
    "        else:\n",
    "            return \"Unknown\"\n",
    "    except Exception as e:\n",
    "        return f\"Error: {e}\"\n",
    "\n",
    "last_commit_time = get_last_commit_time()"
   ]
  }
 ],
 "metadata": {
  "kernelspec": {
   "display_name": "Python 3",
   "language": "python",
   "name": "python3"
  },
  "language_info": {
   "codemirror_mode": {
    "name": "ipython",
    "version": 3
   },
   "file_extension": ".py",
   "mimetype": "text/x-python",
   "name": "python",
   "nbconvert_exporter": "python",
   "pygments_lexer": "ipython3",
   "version": "3.10.11"
  }
 },
 "nbformat": 4,
 "nbformat_minor": 2
}
