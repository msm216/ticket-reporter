{
 "cells": [
  {
   "cell_type": "markdown",
   "metadata": {},
   "source": [
    "## Project Structure"
   ]
  },
  {
   "cell_type": "markdown",
   "metadata": {},
   "source": [
    "```arduino\n",
    "ticket-reporter/\n",
    "│\n",
    "├── app/\n",
    "│   ├── __init__.py\n",
    "│   ├── models.py\n",
    "│   ├── views.py\n",
    "│   ├── forms.py\n",
    "│   ├── data/\n",
    "│   │   └── sqlite/\n",
    "│   │       └── app.db\n",
    "│   ├── templates/\n",
    "│   │   ├── base.html\n",
    "│   │   ├── home.html\n",
    "│   │   ├── task.html\n",
    "│   │   ├── ticket.html\n",
    "│   │   ├── project.html\n",
    "│   │   └── about.html\n",
    "│   └── static/\n",
    "│       ├── css/\n",
    "│       │   └── styles.css\n",
    "│       ├── js/\n",
    "│       │   └── scripts.js\n",
    "│       └── favicon.ico\n",
    "├── db_init.py\n",
    "├── run.py\n",
    "├── config.py\n",
    "├── runner.ipynb\n",
    "└── requirements.txt\n",
    "```"
   ]
  },
  {
   "cell_type": "markdown",
   "metadata": {},
   "source": [
    "## Verify Test Data"
   ]
  },
  {
   "cell_type": "code",
   "execution_count": null,
   "metadata": {},
   "outputs": [],
   "source": [
    "import random\n",
    "import string\n",
    "\n",
    "import pandas as pd\n",
    "\n",
    "from app import create_app, db\n",
    "from app.models import Task, Ticket, Project\n",
    "\n",
    "####################################################\n",
    "\n",
    "# 通过 __init__.py 中的 create_app() 函数创建app\n",
    "app = create_app()\n",
    "# sqlite:///d:\\\\Projects\\\\Py-Projects\\\\ticket-reporter\\\\data\\\\sqlite\\\\app.db\n",
    "db_path = app.config['SQLALCHEMY_DATABASE_URI']\n",
    "print(db_path)\n",
    "\n",
    "with app.app_context():\n",
    "\n",
    "    # 读取表格内容为 list，其中的元素都为各自对应模型的实例\n",
    "    tasks_list = Task.query.all()\n",
    "    tickets_list = Ticket.query.all()\n",
    "    projects_list = Project.query.all()\n",
    "\n",
    "    # 读取表格内容为 DataFrame\n",
    "    tasks_df = pd.read_sql(Task.query.statement, db.session.bind)\n",
    "    tickets_df = pd.read_sql(Ticket.query.statement, db.session.bind)\n",
    "    projects_df = pd.read_sql(Project.query.statement, db.session.bind)\n"
   ]
  },
  {
   "cell_type": "code",
   "execution_count": null,
   "metadata": {},
   "outputs": [],
   "source": [
    "import sqlite3\n",
    "import os\n",
    "import pandas as pd\n",
    "from app import create_app, db\n",
    "from app.models import Task, Ticket, Project\n",
    "\n",
    "# 创建 Flask 应用实例\n",
    "app = create_app()\n",
    "\n",
    "# 提取数据库路径\n",
    "db_uri = app.config['SQLALCHEMY_DATABASE_URI']\n",
    "if db_uri.startswith('sqlite:///'):\n",
    "    db_path = db_uri[len('sqlite:///'):]\n",
    "elif db_uri.startswith('sqlite://'):\n",
    "    db_path = db_uri[len('sqlite://'):]\n",
    "else:\n",
    "    raise ValueError(\"Unsupported database URI scheme\")\n",
    "\n",
    "# 在 Jupyter Notebook 中手动指定路径\n",
    "db_path = os.path.join(os.getcwd(), 'app', 'data', 'sqlite', 'report.db')\n",
    "\n",
    "# 使用 SQLAlchemy 的连接引擎\n",
    "from sqlalchemy import create_engine\n",
    "engine = create_engine(f'sqlite:///{db_path}')\n",
    "\n",
    "# 使用 pandas 读取 SQL 数据\n",
    "with app.app_context():\n",
    "    tasks_df = pd.read_sql(Task.query.statement, db.session.bind)\n",
    "    tickets_df = pd.read_sql(Ticket.query.statement, db.session.bind)\n",
    "    projects_df = pd.read_sql(Project.query.statement, db.session.bind)\n",
    "\n",
    "# 显示 DataFrame 内容\n",
    "print(tasks_df.head())\n",
    "print(tickets_df.head())\n",
    "print(projects_df.head())"
   ]
  },
  {
   "cell_type": "code",
   "execution_count": null,
   "metadata": {},
   "outputs": [],
   "source": [
    "#random_ticket = random.choice(tickets)\n",
    "#vars(random_ticket)\n",
    "\n",
    "for tick in tickets_list:\n",
    "    print(\n",
    "        f\"{tick.id}|{tick.title}|{tick.report_on}|{tick.description}|{tick.project_id}|{tick.update_on}\"\n",
    "    )"
   ]
  },
  {
   "cell_type": "code",
   "execution_count": null,
   "metadata": {},
   "outputs": [],
   "source": []
  },
  {
   "cell_type": "code",
   "execution_count": null,
   "metadata": {},
   "outputs": [],
   "source": []
  },
  {
   "cell_type": "code",
   "execution_count": null,
   "metadata": {},
   "outputs": [],
   "source": []
  },
  {
   "cell_type": "code",
   "execution_count": null,
   "metadata": {},
   "outputs": [],
   "source": []
  },
  {
   "cell_type": "code",
   "execution_count": null,
   "metadata": {},
   "outputs": [],
   "source": []
  },
  {
   "cell_type": "code",
   "execution_count": null,
   "metadata": {},
   "outputs": [],
   "source": [
    "import random\n",
    "import json\n",
    "import os\n",
    "import matplotlib.pyplot as plt\n",
    "\n",
    "from shapely.geometry import shape, Point\n",
    "\n",
    "# \n",
    "def load_europe_polygon(geojson_path):\n",
    "    with open(geojson_path, 'r') as file:\n",
    "        geojson = json.load(file)\n",
    "    return shape(geojson['features'][0]['geometry'])\n",
    "\n",
    "def generate_random_point_in_polygon(polygon):\n",
    "    min_x, min_y, max_x, max_y = polygon.bounds\n",
    "    while True:\n",
    "        random_point = Point(random.uniform(min_x, max_x), random.uniform(min_y, max_y))\n",
    "        if polygon.contains(random_point):\n",
    "            return random_point\n",
    "        \n",
    "europe_json = os.path.join(os.getcwd(), 'data', 'json', 'europe.json')\n",
    "# 加载欧洲的多边形边界\n",
    "europe_polygon = load_europe_polygon(europe_json)"
   ]
  }
 ],
 "metadata": {
  "kernelspec": {
   "display_name": "Python 3",
   "language": "python",
   "name": "python3"
  },
  "language_info": {
   "codemirror_mode": {
    "name": "ipython",
    "version": 3
   },
   "file_extension": ".py",
   "mimetype": "text/x-python",
   "name": "python",
   "nbconvert_exporter": "python",
   "pygments_lexer": "ipython3",
   "version": "3.10.11"
  }
 },
 "nbformat": 4,
 "nbformat_minor": 2
}
