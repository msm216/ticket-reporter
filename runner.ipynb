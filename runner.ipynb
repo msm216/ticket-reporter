{
 "cells": [
  {
   "cell_type": "markdown",
   "metadata": {},
   "source": [
    "## Project Structure"
   ]
  },
  {
   "cell_type": "markdown",
   "metadata": {},
   "source": [
    "```arduino\n",
    "ticket-reporter/\n",
    "│\n",
    "├── app/\n",
    "│   ├── __init__.py\n",
    "│   ├── models.py\n",
    "│   ├── views.py\n",
    "│   ├── forms.py\n",
    "│   ├── data/\n",
    "│   │   └── sqlite/\n",
    "│   │       └── app.db\n",
    "│   ├── templates/\n",
    "│   │   ├── base.html\n",
    "│   │   ├── home.html\n",
    "│   │   ├── task.html\n",
    "│   │   ├── ticket.html\n",
    "│   │   ├── project.html\n",
    "│   │   └── about.html\n",
    "│   └── static/\n",
    "│       ├── css/\n",
    "│       │   └── styles.css\n",
    "│       ├── js/\n",
    "│       │   └── scripts.js\n",
    "│       └── favicon.ico\n",
    "├── db_init.py\n",
    "├── run.py\n",
    "├── config.py\n",
    "├── runner.ipynb\n",
    "└── requirements.txt\n",
    "```"
   ]
  },
  {
   "cell_type": "markdown",
   "metadata": {},
   "source": [
    "## Verify Test Data"
   ]
  },
  {
   "cell_type": "code",
   "execution_count": null,
   "metadata": {},
   "outputs": [],
   "source": [
    "import sqlite3\n",
    "import os\n",
    "import pandas as pd\n",
    "from app import create_app, db\n",
    "from app.models import Task, Ticket, Project\n",
    "\n",
    "# 创建 Flask 应用实例\n",
    "app = create_app()\n",
    "\n",
    "# 提取数据库路径\n",
    "db_uri = app.config['SQLALCHEMY_DATABASE_URI']\n",
    "if db_uri.startswith('sqlite:///'):\n",
    "    db_path = db_uri[len('sqlite:///'):]\n",
    "elif db_uri.startswith('sqlite://'):\n",
    "    db_path = db_uri[len('sqlite://'):]\n",
    "else:\n",
    "    raise ValueError(\"Unsupported database URI scheme\")\n",
    "\n",
    "# 在 Jupyter Notebook 中手动指定路径\n",
    "db_path = os.path.join(os.getcwd(), 'app', 'instance', 'report.db')\n",
    "\n",
    "# 使用 SQLAlchemy 的连接引擎\n",
    "from sqlalchemy import create_engine\n",
    "engine = create_engine(f'sqlite:///{db_path}')\n",
    "\n",
    "# 使用 pandas 读取 SQL 数据\n",
    "with app.app_context():\n",
    "    tasks_df = pd.read_sql(Task.query.statement, db.session.bind)\n",
    "    tickets_df = pd.read_sql(Ticket.query.statement, db.session.bind)\n",
    "    projects_df = pd.read_sql(Project.query.statement, db.session.bind)\n",
    "\n",
    "# 显示 DataFrame 内容\n",
    "print(tasks_df.head())\n",
    "print(tickets_df.head())\n",
    "print(projects_df.head())"
   ]
  },
  {
   "cell_type": "code",
   "execution_count": null,
   "metadata": {},
   "outputs": [],
   "source": [
    "#random_ticket = random.choice(tickets)\n",
    "#vars(random_ticket)\n"
   ]
  },
  {
   "cell_type": "code",
   "execution_count": null,
   "metadata": {},
   "outputs": [],
   "source": []
  },
  {
   "cell_type": "code",
   "execution_count": 18,
   "metadata": {},
   "outputs": [
    {
     "name": "stdout",
     "output_type": "stream",
     "text": [
      "NU1402259274\n"
     ]
    }
   ],
   "source": [
    "import random, string\n",
    "random_string = ''.join(random.choices(string.ascii_uppercase, k=2)) + ''.join(random.choices(string.digits, k=10))\n",
    "print(random_string)"
   ]
  },
  {
   "cell_type": "code",
   "execution_count": 40,
   "metadata": {},
   "outputs": [
    {
     "data": {
      "text/plain": [
       "'A5509258295'"
      ]
     },
     "execution_count": 40,
     "metadata": {},
     "output_type": "execute_result"
    }
   ],
   "source": [
    "import random\n",
    "\n",
    "\"A\" + str(random.randint(10**9, 10**10 - 1))"
   ]
  },
  {
   "cell_type": "code",
   "execution_count": null,
   "metadata": {},
   "outputs": [],
   "source": []
  },
  {
   "cell_type": "code",
   "execution_count": 5,
   "metadata": {},
   "outputs": [
    {
     "name": "stdout",
     "output_type": "stream",
     "text": [
      "Company: Lidl\n",
      "    Name: Lidl-Elisenstr\n",
      "    Address: Elisenstraße 3\n",
      "    ZIP: 80335\n",
      "    Country: DE\n",
      "    Latitude: 48.0686708\n",
      "    Longitude: 9.8155347\n",
      "    Amount: 2\n",
      "\n",
      "    Name: Lidl-Nymphenburgerstr\n",
      "    Address: Nymphenburger Str. 81\n",
      "    ZIP: 80636\n",
      "    Country: DE\n",
      "    Latitude: 48.1499866\n",
      "    Longitude: 11.5418691\n",
      "    Amount: 3\n",
      "\n",
      "    Name: Lidl-Schwaighofstr\n",
      "    Address: Schwaighofstraße 79\n",
      "    ZIP: 83684\n",
      "    Country: DE\n",
      "    Latitude: 47.69565\n",
      "    Longitude: 11.484939\n",
      "    Amount: 2\n",
      "\n",
      "    Name: Lidl-Wilmersdorferstr\n",
      "    Address: Wilmersdorfer Str. 126\n",
      "    ZIP: 10627\n",
      "    Country: DE\n",
      "    Latitude: 52.50973\n",
      "    Longitude: 13.30583\n",
      "    Amount: 2\n",
      "\n",
      "Company: Aldi\n",
      "    Name: Aldi-Borsigstr\n",
      "    Address: Borsigstraße 11\n",
      "    ZIP: 76185\n",
      "    Country: DE\n",
      "    Latitude: 49.0210975\n",
      "    Longitude: 8.2100701\n",
      "    Amount: 3\n",
      "\n",
      "    Name: Aldi-Berolinastr\n",
      "    Address: Berolinastraße 7a\n",
      "    ZIP: 10178\n",
      "    Country: DE\n",
      "    Latitude: 52.5207625\n",
      "    Longitude: 13.420975\n",
      "    Amount: 2\n",
      "\n",
      "Company: Total\n",
      "    Name: Total-Leonrodstr\n",
      "    Address: Leonrodstraße 48\n",
      "    ZIP: 80636\n",
      "    Country: DE\n",
      "    Latitude: 48.1570643\n",
      "    Longitude: 11.5413242\n",
      "    Amount: 2\n",
      "\n",
      "Company: Shell\n",
      "    Name: Shell-Ookmeerweg\n",
      "    Address: Ookmeerweg 501\n",
      "    ZIP: 1067 MP\n",
      "    Country: NL\n",
      "    Latitude: 48.0686708\n",
      "    Longitude: 9.8155347\n",
      "    Amount: 4\n",
      "\n",
      "    Name: Shell-Kaiser-Friedrich-Str\n",
      "    Address: Kaiser-Friedrich-Straße 95\n",
      "    ZIP: 10585\n",
      "    Country: DE\n",
      "    Latitude: 52.5159335\n",
      "    Longitude: 13.2291037\n",
      "    Amount: 2\n",
      "\n",
      "Company: Tamoil\n",
      "    Name: Tamoil-Regulierenring\n",
      "    Address: Regulierenring 2G\n",
      "    ZIP: 3981 LB\n",
      "    Country: NL\n",
      "    Latitude: 52.0639952\n",
      "    Longitude: 4.0383803\n",
      "    Amount: 3\n",
      "\n",
      "Specific Location: Elisenstraße 3\n"
     ]
    }
   ],
   "source": [
    "import json\n",
    "import os\n",
    "\n",
    "# 定义文件路径\n",
    "file_path = os.path.join('data', 'samples', 'sites.json')\n",
    "\n",
    "# 读取和解析 JSON 文件\n",
    "with open(file_path, 'r', encoding='utf-8') as file:\n",
    "    data = json.load(file)\n",
    "\n",
    "# 遍历数据并打印详细信息\n",
    "for company, sites in data.items():\n",
    "    print(f\"Company: {company}\")\n",
    "    for name, details in sites.items():\n",
    "        print(f\"    Name: {name}\")\n",
    "        print(f\"    Address: {details['address']}\")\n",
    "        print(f\"    ZIP: {details['zip']}\")\n",
    "        print(f\"    Country: {details['country']}\")\n",
    "        print(f\"    Latitude: {details['latitude']}\")\n",
    "        print(f\"    Longitude: {details['longitude']}\")\n",
    "        print(f\"    Amount: {details['amount']}\")\n",
    "        print()\n",
    "\n",
    "# 示例：访问特定位置的数据\n",
    "specific_location = data['Lidl']['Lidl-Elisenstr']['address']\n",
    "print(f\"Specific Location: {specific_location}\")"
   ]
  },
  {
   "cell_type": "code",
   "execution_count": null,
   "metadata": {},
   "outputs": [],
   "source": []
  },
  {
   "cell_type": "code",
   "execution_count": null,
   "metadata": {},
   "outputs": [],
   "source": []
  },
  {
   "cell_type": "code",
   "execution_count": null,
   "metadata": {},
   "outputs": [],
   "source": []
  },
  {
   "cell_type": "code",
   "execution_count": null,
   "metadata": {},
   "outputs": [],
   "source": [
    "pip list --format=freeze > requirements.txt"
   ]
  }
 ],
 "metadata": {
  "kernelspec": {
   "display_name": "Python 3",
   "language": "python",
   "name": "python3"
  },
  "language_info": {
   "codemirror_mode": {
    "name": "ipython",
    "version": 3
   },
   "file_extension": ".py",
   "mimetype": "text/x-python",
   "name": "python",
   "nbconvert_exporter": "python",
   "pygments_lexer": "ipython3",
   "version": "3.10.11"
  }
 },
 "nbformat": 4,
 "nbformat_minor": 2
}
